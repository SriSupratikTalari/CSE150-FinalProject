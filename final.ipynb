{
 "cells": [
  {
   "cell_type": "code",
   "execution_count": 38,
   "metadata": {},
   "outputs": [],
   "source": [
    "import numpy as np \n",
    "import pandas as pd "
   ]
  },
  {
   "cell_type": "code",
   "execution_count": 39,
   "metadata": {},
   "outputs": [
    {
     "data": {
      "text/html": [
       "<div>\n",
       "<style scoped>\n",
       "    .dataframe tbody tr th:only-of-type {\n",
       "        vertical-align: middle;\n",
       "    }\n",
       "\n",
       "    .dataframe tbody tr th {\n",
       "        vertical-align: top;\n",
       "    }\n",
       "\n",
       "    .dataframe thead th {\n",
       "        text-align: right;\n",
       "    }\n",
       "</style>\n",
       "<table border=\"1\" class=\"dataframe\">\n",
       "  <thead>\n",
       "    <tr style=\"text-align: right;\">\n",
       "      <th></th>\n",
       "      <th>Date</th>\n",
       "      <th>Open</th>\n",
       "      <th>High</th>\n",
       "      <th>Low</th>\n",
       "      <th>Close</th>\n",
       "      <th>Volume</th>\n",
       "      <th>Dividends</th>\n",
       "      <th>Stock Splits</th>\n",
       "    </tr>\n",
       "  </thead>\n",
       "  <tbody>\n",
       "    <tr>\n",
       "      <th>0</th>\n",
       "      <td>1997-05-15 00:00:00-04:00</td>\n",
       "      <td>0.121875</td>\n",
       "      <td>0.125000</td>\n",
       "      <td>0.096354</td>\n",
       "      <td>0.097917</td>\n",
       "      <td>1443120000</td>\n",
       "      <td>0.0</td>\n",
       "      <td>0.0</td>\n",
       "    </tr>\n",
       "    <tr>\n",
       "      <th>1</th>\n",
       "      <td>1997-05-16 00:00:00-04:00</td>\n",
       "      <td>0.098438</td>\n",
       "      <td>0.098958</td>\n",
       "      <td>0.085417</td>\n",
       "      <td>0.086458</td>\n",
       "      <td>294000000</td>\n",
       "      <td>0.0</td>\n",
       "      <td>0.0</td>\n",
       "    </tr>\n",
       "    <tr>\n",
       "      <th>2</th>\n",
       "      <td>1997-05-19 00:00:00-04:00</td>\n",
       "      <td>0.088021</td>\n",
       "      <td>0.088542</td>\n",
       "      <td>0.081250</td>\n",
       "      <td>0.085417</td>\n",
       "      <td>122136000</td>\n",
       "      <td>0.0</td>\n",
       "      <td>0.0</td>\n",
       "    </tr>\n",
       "    <tr>\n",
       "      <th>3</th>\n",
       "      <td>1997-05-20 00:00:00-04:00</td>\n",
       "      <td>0.086458</td>\n",
       "      <td>0.087500</td>\n",
       "      <td>0.081771</td>\n",
       "      <td>0.081771</td>\n",
       "      <td>109344000</td>\n",
       "      <td>0.0</td>\n",
       "      <td>0.0</td>\n",
       "    </tr>\n",
       "    <tr>\n",
       "      <th>4</th>\n",
       "      <td>1997-05-21 00:00:00-04:00</td>\n",
       "      <td>0.081771</td>\n",
       "      <td>0.082292</td>\n",
       "      <td>0.068750</td>\n",
       "      <td>0.071354</td>\n",
       "      <td>377064000</td>\n",
       "      <td>0.0</td>\n",
       "      <td>0.0</td>\n",
       "    </tr>\n",
       "    <tr>\n",
       "      <th>...</th>\n",
       "      <td>...</td>\n",
       "      <td>...</td>\n",
       "      <td>...</td>\n",
       "      <td>...</td>\n",
       "      <td>...</td>\n",
       "      <td>...</td>\n",
       "      <td>...</td>\n",
       "      <td>...</td>\n",
       "    </tr>\n",
       "    <tr>\n",
       "      <th>6982</th>\n",
       "      <td>2025-02-14 00:00:00-05:00</td>\n",
       "      <td>229.199997</td>\n",
       "      <td>229.889999</td>\n",
       "      <td>227.229996</td>\n",
       "      <td>228.679993</td>\n",
       "      <td>27031100</td>\n",
       "      <td>0.0</td>\n",
       "      <td>0.0</td>\n",
       "    </tr>\n",
       "    <tr>\n",
       "      <th>6983</th>\n",
       "      <td>2025-02-18 00:00:00-05:00</td>\n",
       "      <td>228.820007</td>\n",
       "      <td>229.300003</td>\n",
       "      <td>223.720001</td>\n",
       "      <td>226.649994</td>\n",
       "      <td>42975100</td>\n",
       "      <td>0.0</td>\n",
       "      <td>0.0</td>\n",
       "    </tr>\n",
       "    <tr>\n",
       "      <th>6984</th>\n",
       "      <td>2025-02-19 00:00:00-05:00</td>\n",
       "      <td>225.520004</td>\n",
       "      <td>226.830002</td>\n",
       "      <td>223.710007</td>\n",
       "      <td>226.630005</td>\n",
       "      <td>28566700</td>\n",
       "      <td>0.0</td>\n",
       "      <td>0.0</td>\n",
       "    </tr>\n",
       "    <tr>\n",
       "      <th>6985</th>\n",
       "      <td>2025-02-20 00:00:00-05:00</td>\n",
       "      <td>224.779999</td>\n",
       "      <td>225.130005</td>\n",
       "      <td>221.809998</td>\n",
       "      <td>222.880005</td>\n",
       "      <td>30001700</td>\n",
       "      <td>0.0</td>\n",
       "      <td>0.0</td>\n",
       "    </tr>\n",
       "    <tr>\n",
       "      <th>6986</th>\n",
       "      <td>2025-02-21 00:00:00-05:00</td>\n",
       "      <td>223.279999</td>\n",
       "      <td>223.309998</td>\n",
       "      <td>214.740005</td>\n",
       "      <td>216.580002</td>\n",
       "      <td>55161000</td>\n",
       "      <td>0.0</td>\n",
       "      <td>0.0</td>\n",
       "    </tr>\n",
       "  </tbody>\n",
       "</table>\n",
       "<p>6987 rows × 8 columns</p>\n",
       "</div>"
      ],
      "text/plain": [
       "                           Date        Open        High         Low  \\\n",
       "0     1997-05-15 00:00:00-04:00    0.121875    0.125000    0.096354   \n",
       "1     1997-05-16 00:00:00-04:00    0.098438    0.098958    0.085417   \n",
       "2     1997-05-19 00:00:00-04:00    0.088021    0.088542    0.081250   \n",
       "3     1997-05-20 00:00:00-04:00    0.086458    0.087500    0.081771   \n",
       "4     1997-05-21 00:00:00-04:00    0.081771    0.082292    0.068750   \n",
       "...                         ...         ...         ...         ...   \n",
       "6982  2025-02-14 00:00:00-05:00  229.199997  229.889999  227.229996   \n",
       "6983  2025-02-18 00:00:00-05:00  228.820007  229.300003  223.720001   \n",
       "6984  2025-02-19 00:00:00-05:00  225.520004  226.830002  223.710007   \n",
       "6985  2025-02-20 00:00:00-05:00  224.779999  225.130005  221.809998   \n",
       "6986  2025-02-21 00:00:00-05:00  223.279999  223.309998  214.740005   \n",
       "\n",
       "           Close      Volume  Dividends  Stock Splits  \n",
       "0       0.097917  1443120000        0.0           0.0  \n",
       "1       0.086458   294000000        0.0           0.0  \n",
       "2       0.085417   122136000        0.0           0.0  \n",
       "3       0.081771   109344000        0.0           0.0  \n",
       "4       0.071354   377064000        0.0           0.0  \n",
       "...          ...         ...        ...           ...  \n",
       "6982  228.679993    27031100        0.0           0.0  \n",
       "6983  226.649994    42975100        0.0           0.0  \n",
       "6984  226.630005    28566700        0.0           0.0  \n",
       "6985  222.880005    30001700        0.0           0.0  \n",
       "6986  216.580002    55161000        0.0           0.0  \n",
       "\n",
       "[6987 rows x 8 columns]"
      ]
     },
     "execution_count": 39,
     "metadata": {},
     "output_type": "execute_result"
    }
   ],
   "source": [
    "df=pd.read_csv('AMZN_stock_data.csv')\n",
    "df"
   ]
  },
  {
   "cell_type": "code",
   "execution_count": 40,
   "metadata": {},
   "outputs": [
    {
     "name": "stderr",
     "output_type": "stream",
     "text": [
      "/var/folders/6w/jrhlkst96ql2zyhbfwzbz2lw0000gn/T/ipykernel_84653/2691600196.py:1: FutureWarning: In a future version of pandas, parsing datetimes with mixed time zones will raise an error unless `utc=True`. Please specify `utc=True` to opt in to the new behaviour and silence this warning. To create a `Series` with mixed offsets and `object` dtype, please use `apply` and `datetime.datetime.strptime`\n",
      "  df['Date']= pd.to_datetime(df['Date'])\n"
     ]
    }
   ],
   "source": [
    "df['Date']= pd.to_datetime(df['Date'])"
   ]
  },
  {
   "cell_type": "code",
   "execution_count": 41,
   "metadata": {},
   "outputs": [
    {
     "data": {
      "text/plain": [
       "count    6987.000000\n",
       "mean       40.685061\n",
       "std        58.125169\n",
       "min         0.069792\n",
       "25%         2.110000\n",
       "50%         9.021000\n",
       "75%        73.006500\n",
       "max       242.059998\n",
       "Name: Close, dtype: float64"
      ]
     },
     "execution_count": 41,
     "metadata": {},
     "output_type": "execute_result"
    }
   ],
   "source": [
    "df['Close'].describe()"
   ]
  },
  {
   "cell_type": "code",
   "execution_count": 42,
   "metadata": {},
   "outputs": [
    {
     "data": {
      "text/plain": [
       "count    6987.000000\n",
       "mean       41.165619\n",
       "std        58.787641\n",
       "min         0.072396\n",
       "25%         2.148250\n",
       "50%         9.158500\n",
       "75%        73.643497\n",
       "max       242.520004\n",
       "Name: High, dtype: float64"
      ]
     },
     "execution_count": 42,
     "metadata": {},
     "output_type": "execute_result"
    }
   ],
   "source": [
    "df['High'].describe()"
   ]
  },
  {
   "cell_type": "code",
   "execution_count": 43,
   "metadata": {},
   "outputs": [],
   "source": [
    "df['Close']=df['Close'].apply(lambda x: 1 if x>40.685061 else 0)\n",
    "df['High']=df['High'].apply(lambda x: 1 if x>41.165619 else 0)\n"
   ]
  },
  {
   "cell_type": "code",
   "execution_count": 44,
   "metadata": {},
   "outputs": [],
   "source": [
    "final=df[['Date','High','Close']]"
   ]
  },
  {
   "cell_type": "code",
   "execution_count": 45,
   "metadata": {},
   "outputs": [
    {
     "data": {
      "text/html": [
       "<div>\n",
       "<style scoped>\n",
       "    .dataframe tbody tr th:only-of-type {\n",
       "        vertical-align: middle;\n",
       "    }\n",
       "\n",
       "    .dataframe tbody tr th {\n",
       "        vertical-align: top;\n",
       "    }\n",
       "\n",
       "    .dataframe thead th {\n",
       "        text-align: right;\n",
       "    }\n",
       "</style>\n",
       "<table border=\"1\" class=\"dataframe\">\n",
       "  <thead>\n",
       "    <tr style=\"text-align: right;\">\n",
       "      <th></th>\n",
       "      <th>High</th>\n",
       "      <th>Close</th>\n",
       "    </tr>\n",
       "    <tr>\n",
       "      <th>Date</th>\n",
       "      <th></th>\n",
       "      <th></th>\n",
       "    </tr>\n",
       "  </thead>\n",
       "  <tbody>\n",
       "    <tr>\n",
       "      <th>1997-05-15 00:00:00-04:00</th>\n",
       "      <td>0</td>\n",
       "      <td>0</td>\n",
       "    </tr>\n",
       "    <tr>\n",
       "      <th>1997-05-16 00:00:00-04:00</th>\n",
       "      <td>0</td>\n",
       "      <td>0</td>\n",
       "    </tr>\n",
       "    <tr>\n",
       "      <th>1997-05-19 00:00:00-04:00</th>\n",
       "      <td>0</td>\n",
       "      <td>0</td>\n",
       "    </tr>\n",
       "    <tr>\n",
       "      <th>1997-05-20 00:00:00-04:00</th>\n",
       "      <td>0</td>\n",
       "      <td>0</td>\n",
       "    </tr>\n",
       "    <tr>\n",
       "      <th>1997-05-21 00:00:00-04:00</th>\n",
       "      <td>0</td>\n",
       "      <td>0</td>\n",
       "    </tr>\n",
       "    <tr>\n",
       "      <th>...</th>\n",
       "      <td>...</td>\n",
       "      <td>...</td>\n",
       "    </tr>\n",
       "    <tr>\n",
       "      <th>2025-02-14 00:00:00-05:00</th>\n",
       "      <td>1</td>\n",
       "      <td>1</td>\n",
       "    </tr>\n",
       "    <tr>\n",
       "      <th>2025-02-18 00:00:00-05:00</th>\n",
       "      <td>1</td>\n",
       "      <td>1</td>\n",
       "    </tr>\n",
       "    <tr>\n",
       "      <th>2025-02-19 00:00:00-05:00</th>\n",
       "      <td>1</td>\n",
       "      <td>1</td>\n",
       "    </tr>\n",
       "    <tr>\n",
       "      <th>2025-02-20 00:00:00-05:00</th>\n",
       "      <td>1</td>\n",
       "      <td>1</td>\n",
       "    </tr>\n",
       "    <tr>\n",
       "      <th>2025-02-21 00:00:00-05:00</th>\n",
       "      <td>1</td>\n",
       "      <td>1</td>\n",
       "    </tr>\n",
       "  </tbody>\n",
       "</table>\n",
       "<p>6987 rows × 2 columns</p>\n",
       "</div>"
      ],
      "text/plain": [
       "                           High  Close\n",
       "Date                                  \n",
       "1997-05-15 00:00:00-04:00     0      0\n",
       "1997-05-16 00:00:00-04:00     0      0\n",
       "1997-05-19 00:00:00-04:00     0      0\n",
       "1997-05-20 00:00:00-04:00     0      0\n",
       "1997-05-21 00:00:00-04:00     0      0\n",
       "...                         ...    ...\n",
       "2025-02-14 00:00:00-05:00     1      1\n",
       "2025-02-18 00:00:00-05:00     1      1\n",
       "2025-02-19 00:00:00-05:00     1      1\n",
       "2025-02-20 00:00:00-05:00     1      1\n",
       "2025-02-21 00:00:00-05:00     1      1\n",
       "\n",
       "[6987 rows x 2 columns]"
      ]
     },
     "execution_count": 45,
     "metadata": {},
     "output_type": "execute_result"
    }
   ],
   "source": [
    "final.set_index('Date')"
   ]
  },
  {
   "cell_type": "code",
   "execution_count": 46,
   "metadata": {},
   "outputs": [
    {
     "name": "stdout",
     "output_type": "stream",
     "text": [
      "          0         1\n",
      "0  0.999191  0.000809\n",
      "1  0.001468  0.998532\n"
     ]
    }
   ],
   "source": [
    "states = sorted(final['High'].unique())  # Assumes 'High' is categorical or discrete\n",
    "state_to_index = {state: i for i, state in enumerate(states)}\n",
    "num_states = len(states)\n",
    "\n",
    "# Initialize transition counts\n",
    "transition_counts = np.zeros((num_states, num_states))\n",
    "\n",
    "# Count transitions from one 'High' value to the next\n",
    "for t in range(1, len(final)):\n",
    "    prev_state = final.iloc[t - 1]['High']\n",
    "    curr_state = final.iloc[t]['High']\n",
    "    i = state_to_index[prev_state]\n",
    "    j = state_to_index[curr_state]\n",
    "    transition_counts[i, j] += 1\n",
    "\n",
    "# Normalize to get transition probabilities\n",
    "transition_matrix = transition_counts / transition_counts.sum(axis=1, keepdims=True)\n",
    "\n",
    "# Convert to DataFrame for readability\n",
    "transition_df = pd.DataFrame(\n",
    "    transition_matrix,\n",
    "    index=states,\n",
    "    columns=states\n",
    ")\n",
    "\n",
    "print(transition_df)"
   ]
  },
  {
   "cell_type": "markdown",
   "metadata": {},
   "source": [
    "Above you see a df that we are gonna use. We will use it to make an HMM model where our observations is the Close column and the Hidden state is the High column"
   ]
  },
  {
   "cell_type": "markdown",
   "metadata": {},
   "source": [
    "Goal: We are going to predict a hidden state(some Si) given some observations () i.e. Forward Algorithm = P(si=1|O1,...Ot)"
   ]
  },
  {
   "cell_type": "code",
   "execution_count": 47,
   "metadata": {},
   "outputs": [
    {
     "data": {
      "text/plain": [
       "'Your task: You guys need to calculate the Emission Matrix and Transition Matrix as well as the initial forward inference'"
      ]
     },
     "execution_count": 47,
     "metadata": {},
     "output_type": "execute_result"
    }
   ],
   "source": [
    "\"Your task: You guys need to calculate the Emission Matrix and Transition Matrix as well as the initial forward inference\""
   ]
  },
  {
   "cell_type": "code",
   "execution_count": 48,
   "metadata": {},
   "outputs": [],
   "source": [
    "transition=None\n",
    "emisssion=None"
   ]
  },
  {
   "cell_type": "code",
   "execution_count": 49,
   "metadata": {},
   "outputs": [],
   "source": [
    "class HiddenMarkovModel:\n",
    "    \"\"\"A Hidden markov model which takes Transition matrix and Emmission matrix as inputs\"\"\"\n",
    "\n",
    "    def __init__(self, transition_matrix, emission_matrix, prior=None):\n",
    "      self.transition_matrix = transition_matrix\n",
    "      self.emission_matrix = emission_matrix\n",
    "      self.prior = prior\n",
    "      return None\n",
    "\n",
    "    def emission_dist(self, ev):\n",
    "      if ev:\n",
    "        return self.emission_matrix[0]\n",
    "      else:\n",
    "        return self.emission_matrix[1]\n",
    "      return None"
   ]
  },
  {
   "cell_type": "code",
   "execution_count": 50,
   "metadata": {},
   "outputs": [],
   "source": [
    "def forward_step(trans, fv, ev):\n",
    "  emission_dist = emission_dist(ev)\n",
    "  forward_inf = fv\n",
    "  transition_matrix = trans\n",
    "\n",
    "  nonNormSolution = emission_dist * np.array([[1,0],[0,1]]) @transition_matrix @ forward_inf\n",
    "  alpha = nonNormSolution / np.sum(nonNormSolution)\n",
    "\n",
    "\n",
    "  return alpha"
   ]
  },
  {
   "cell_type": "code",
   "execution_count": 51,
   "metadata": {},
   "outputs": [],
   "source": [
    "def backward_step(trans, bv, ev):\n",
    "  transition_matrix=trans\n",
    "  backward_inference=bv\n",
    "  emission_dist=emission_dist[ev]\n",
    "  nonNormSol= transition_matrix @ np.diag(emission_dist)@ backward_inference.reshape(-1,1)\n",
    "  return nonNormSol/np.sum(nonNormSol)\n"
   ]
  },
  {
   "cell_type": "code",
   "execution_count": 52,
   "metadata": {},
   "outputs": [
    {
     "ename": "UnboundLocalError",
     "evalue": "cannot access local variable 'emission_dist' where it is not associated with a value",
     "output_type": "error",
     "traceback": [
      "\u001b[31m---------------------------------------------------------------------------\u001b[39m",
      "\u001b[31mUnboundLocalError\u001b[39m                         Traceback (most recent call last)",
      "\u001b[36mCell\u001b[39m\u001b[36m \u001b[39m\u001b[32mIn[52]\u001b[39m\u001b[32m, line 4\u001b[39m\n\u001b[32m      2\u001b[39m close_evdience = [\u001b[38;5;28;01mTrue\u001b[39;00m, \u001b[38;5;28;01mTrue\u001b[39;00m, \u001b[38;5;28;01mFalse\u001b[39;00m, \u001b[38;5;28;01mTrue\u001b[39;00m, \u001b[38;5;28;01mTrue\u001b[39;00m]\n\u001b[32m      3\u001b[39m \u001b[38;5;28;01mfor\u001b[39;00m ev \u001b[38;5;129;01min\u001b[39;00m \u001b[38;5;28mreversed\u001b[39m(close_evdience):\n\u001b[32m----> \u001b[39m\u001b[32m4\u001b[39m   backward_inference = \u001b[43mbackward_step\u001b[49m\u001b[43m(\u001b[49m\u001b[43mtransition\u001b[49m\u001b[43m,\u001b[49m\u001b[43m \u001b[49m\u001b[43mbackward_inference\u001b[49m\u001b[43m,\u001b[49m\u001b[43m \u001b[49m\u001b[43mev\u001b[49m\u001b[43m \u001b[49m\u001b[43m=\u001b[49m\u001b[43m \u001b[49m\u001b[43mev\u001b[49m\u001b[43m)\u001b[49m \n\u001b[32m      5\u001b[39m   \u001b[38;5;28mprint\u001b[39m(\u001b[33m'\u001b[39m\u001b[33mUmbrella\u001b[39m\u001b[33m'\u001b[39m, ev, backward_inference)\n",
      "\u001b[36mCell\u001b[39m\u001b[36m \u001b[39m\u001b[32mIn[51]\u001b[39m\u001b[32m, line 4\u001b[39m, in \u001b[36mbackward_step\u001b[39m\u001b[34m(trans, bv, ev)\u001b[39m\n\u001b[32m      2\u001b[39m transition_matrix=trans\n\u001b[32m      3\u001b[39m backward_inference=bv\n\u001b[32m----> \u001b[39m\u001b[32m4\u001b[39m emission_dist=\u001b[43memission_dist\u001b[49m[ev]\n\u001b[32m      5\u001b[39m nonNormSol= transition_matrix @ np.diag(emission_dist)@ backward_inference.reshape(-\u001b[32m1\u001b[39m,\u001b[32m1\u001b[39m)\n\u001b[32m      6\u001b[39m \u001b[38;5;28;01mreturn\u001b[39;00m nonNormSol/np.sum(nonNormSol)\n",
      "\u001b[31mUnboundLocalError\u001b[39m: cannot access local variable 'emission_dist' where it is not associated with a value"
     ]
    }
   ],
   "source": [
    "backward_inference = np.array([1.0, 1.0])\n",
    "close_evdience = [True, True, False, True, True]\n",
    "for ev in reversed(close_evdience):\n",
    "  backward_inference = backward_step(transition, backward_inference, ev = ev) \n",
    "  print('Umbrella', ev, backward_inference)"
   ]
  },
  {
   "cell_type": "code",
   "execution_count": null,
   "metadata": {},
   "outputs": [],
   "source": [
    "# Implement viterbi's algorithm here\n",
    "def viterbi(HMM, evidence):\n",
    "  t = len(evidence)\n",
    "  evidence = evidence.copy()\n",
    "  evidence.insert(0, None)\n",
    "\n",
    "  m = [np.array([0,0]) for _ in range(len(evidence) - 1)]\n",
    "\n",
    "  m[0] = forward_step(HMM, HMM.prior, evidence[1])\n",
    "\n",
    "  for i in range(1, len(evidence) - 1):\n",
    "    m[i] = np.multiply(HMM.emission_dist(evidence[i+1]),\n",
    "     [max(np.multiply(HMM.transition_matrix[0], m[i-1])),\n",
    "      max(np.multiply(HMM.transition_matrix[1], m[i-1]))])\n",
    "  m = np.array(m)\n",
    "  print(m)\n",
    "\n",
    "  ml_probabilities = [True] * (len(evidence) -1)\n",
    "  print(ml_probabilities)\n",
    "  ml_path = 1 - np.argmax(m,axis=1)\n",
    "  return ml_path, ml_probabilities, m"
   ]
  }
 ],
 "metadata": {
  "kernelspec": {
   "display_name": "Python 3",
   "language": "python",
   "name": "python3"
  },
  "language_info": {
   "codemirror_mode": {
    "name": "ipython",
    "version": 3
   },
   "file_extension": ".py",
   "mimetype": "text/x-python",
   "name": "python",
   "nbconvert_exporter": "python",
   "pygments_lexer": "ipython3",
   "version": "3.13.3"
  }
 },
 "nbformat": 4,
 "nbformat_minor": 2
}
