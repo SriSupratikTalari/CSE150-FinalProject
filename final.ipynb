{
 "cells": [
  {
   "cell_type": "code",
   "execution_count": 1,
   "metadata": {},
   "outputs": [],
   "source": [
    "import numpy as np \n",
    "import pandas as pd "
   ]
  },
  {
   "cell_type": "code",
   "execution_count": 2,
   "metadata": {},
   "outputs": [
    {
     "data": {
      "text/html": [
       "<div>\n",
       "<style scoped>\n",
       "    .dataframe tbody tr th:only-of-type {\n",
       "        vertical-align: middle;\n",
       "    }\n",
       "\n",
       "    .dataframe tbody tr th {\n",
       "        vertical-align: top;\n",
       "    }\n",
       "\n",
       "    .dataframe thead th {\n",
       "        text-align: right;\n",
       "    }\n",
       "</style>\n",
       "<table border=\"1\" class=\"dataframe\">\n",
       "  <thead>\n",
       "    <tr style=\"text-align: right;\">\n",
       "      <th></th>\n",
       "      <th>Date</th>\n",
       "      <th>Open</th>\n",
       "      <th>High</th>\n",
       "      <th>Low</th>\n",
       "      <th>Close</th>\n",
       "      <th>Volume</th>\n",
       "      <th>Dividends</th>\n",
       "      <th>Stock Splits</th>\n",
       "    </tr>\n",
       "  </thead>\n",
       "  <tbody>\n",
       "    <tr>\n",
       "      <th>0</th>\n",
       "      <td>1997-05-15 00:00:00-04:00</td>\n",
       "      <td>0.121875</td>\n",
       "      <td>0.125000</td>\n",
       "      <td>0.096354</td>\n",
       "      <td>0.097917</td>\n",
       "      <td>1443120000</td>\n",
       "      <td>0.0</td>\n",
       "      <td>0.0</td>\n",
       "    </tr>\n",
       "    <tr>\n",
       "      <th>1</th>\n",
       "      <td>1997-05-16 00:00:00-04:00</td>\n",
       "      <td>0.098438</td>\n",
       "      <td>0.098958</td>\n",
       "      <td>0.085417</td>\n",
       "      <td>0.086458</td>\n",
       "      <td>294000000</td>\n",
       "      <td>0.0</td>\n",
       "      <td>0.0</td>\n",
       "    </tr>\n",
       "    <tr>\n",
       "      <th>2</th>\n",
       "      <td>1997-05-19 00:00:00-04:00</td>\n",
       "      <td>0.088021</td>\n",
       "      <td>0.088542</td>\n",
       "      <td>0.081250</td>\n",
       "      <td>0.085417</td>\n",
       "      <td>122136000</td>\n",
       "      <td>0.0</td>\n",
       "      <td>0.0</td>\n",
       "    </tr>\n",
       "    <tr>\n",
       "      <th>3</th>\n",
       "      <td>1997-05-20 00:00:00-04:00</td>\n",
       "      <td>0.086458</td>\n",
       "      <td>0.087500</td>\n",
       "      <td>0.081771</td>\n",
       "      <td>0.081771</td>\n",
       "      <td>109344000</td>\n",
       "      <td>0.0</td>\n",
       "      <td>0.0</td>\n",
       "    </tr>\n",
       "    <tr>\n",
       "      <th>4</th>\n",
       "      <td>1997-05-21 00:00:00-04:00</td>\n",
       "      <td>0.081771</td>\n",
       "      <td>0.082292</td>\n",
       "      <td>0.068750</td>\n",
       "      <td>0.071354</td>\n",
       "      <td>377064000</td>\n",
       "      <td>0.0</td>\n",
       "      <td>0.0</td>\n",
       "    </tr>\n",
       "    <tr>\n",
       "      <th>...</th>\n",
       "      <td>...</td>\n",
       "      <td>...</td>\n",
       "      <td>...</td>\n",
       "      <td>...</td>\n",
       "      <td>...</td>\n",
       "      <td>...</td>\n",
       "      <td>...</td>\n",
       "      <td>...</td>\n",
       "    </tr>\n",
       "    <tr>\n",
       "      <th>6982</th>\n",
       "      <td>2025-02-14 00:00:00-05:00</td>\n",
       "      <td>229.199997</td>\n",
       "      <td>229.889999</td>\n",
       "      <td>227.229996</td>\n",
       "      <td>228.679993</td>\n",
       "      <td>27031100</td>\n",
       "      <td>0.0</td>\n",
       "      <td>0.0</td>\n",
       "    </tr>\n",
       "    <tr>\n",
       "      <th>6983</th>\n",
       "      <td>2025-02-18 00:00:00-05:00</td>\n",
       "      <td>228.820007</td>\n",
       "      <td>229.300003</td>\n",
       "      <td>223.720001</td>\n",
       "      <td>226.649994</td>\n",
       "      <td>42975100</td>\n",
       "      <td>0.0</td>\n",
       "      <td>0.0</td>\n",
       "    </tr>\n",
       "    <tr>\n",
       "      <th>6984</th>\n",
       "      <td>2025-02-19 00:00:00-05:00</td>\n",
       "      <td>225.520004</td>\n",
       "      <td>226.830002</td>\n",
       "      <td>223.710007</td>\n",
       "      <td>226.630005</td>\n",
       "      <td>28566700</td>\n",
       "      <td>0.0</td>\n",
       "      <td>0.0</td>\n",
       "    </tr>\n",
       "    <tr>\n",
       "      <th>6985</th>\n",
       "      <td>2025-02-20 00:00:00-05:00</td>\n",
       "      <td>224.779999</td>\n",
       "      <td>225.130005</td>\n",
       "      <td>221.809998</td>\n",
       "      <td>222.880005</td>\n",
       "      <td>30001700</td>\n",
       "      <td>0.0</td>\n",
       "      <td>0.0</td>\n",
       "    </tr>\n",
       "    <tr>\n",
       "      <th>6986</th>\n",
       "      <td>2025-02-21 00:00:00-05:00</td>\n",
       "      <td>223.279999</td>\n",
       "      <td>223.309998</td>\n",
       "      <td>214.740005</td>\n",
       "      <td>216.580002</td>\n",
       "      <td>55161000</td>\n",
       "      <td>0.0</td>\n",
       "      <td>0.0</td>\n",
       "    </tr>\n",
       "  </tbody>\n",
       "</table>\n",
       "<p>6987 rows × 8 columns</p>\n",
       "</div>"
      ],
      "text/plain": [
       "                           Date        Open        High         Low  \\\n",
       "0     1997-05-15 00:00:00-04:00    0.121875    0.125000    0.096354   \n",
       "1     1997-05-16 00:00:00-04:00    0.098438    0.098958    0.085417   \n",
       "2     1997-05-19 00:00:00-04:00    0.088021    0.088542    0.081250   \n",
       "3     1997-05-20 00:00:00-04:00    0.086458    0.087500    0.081771   \n",
       "4     1997-05-21 00:00:00-04:00    0.081771    0.082292    0.068750   \n",
       "...                         ...         ...         ...         ...   \n",
       "6982  2025-02-14 00:00:00-05:00  229.199997  229.889999  227.229996   \n",
       "6983  2025-02-18 00:00:00-05:00  228.820007  229.300003  223.720001   \n",
       "6984  2025-02-19 00:00:00-05:00  225.520004  226.830002  223.710007   \n",
       "6985  2025-02-20 00:00:00-05:00  224.779999  225.130005  221.809998   \n",
       "6986  2025-02-21 00:00:00-05:00  223.279999  223.309998  214.740005   \n",
       "\n",
       "           Close      Volume  Dividends  Stock Splits  \n",
       "0       0.097917  1443120000        0.0           0.0  \n",
       "1       0.086458   294000000        0.0           0.0  \n",
       "2       0.085417   122136000        0.0           0.0  \n",
       "3       0.081771   109344000        0.0           0.0  \n",
       "4       0.071354   377064000        0.0           0.0  \n",
       "...          ...         ...        ...           ...  \n",
       "6982  228.679993    27031100        0.0           0.0  \n",
       "6983  226.649994    42975100        0.0           0.0  \n",
       "6984  226.630005    28566700        0.0           0.0  \n",
       "6985  222.880005    30001700        0.0           0.0  \n",
       "6986  216.580002    55161000        0.0           0.0  \n",
       "\n",
       "[6987 rows x 8 columns]"
      ]
     },
     "execution_count": 2,
     "metadata": {},
     "output_type": "execute_result"
    }
   ],
   "source": [
    "df=pd.read_csv('AMZN_stock_data.csv')\n",
    "df"
   ]
  },
  {
   "cell_type": "code",
   "execution_count": 4,
   "metadata": {},
   "outputs": [
    {
     "name": "stderr",
     "output_type": "stream",
     "text": [
      "/var/folders/n_/1hzw47553v1bvg9z8kct6rd40000gn/T/ipykernel_4859/2691600196.py:1: FutureWarning: In a future version of pandas, parsing datetimes with mixed time zones will raise an error unless `utc=True`. Please specify `utc=True` to opt in to the new behaviour and silence this warning. To create a `Series` with mixed offsets and `object` dtype, please use `apply` and `datetime.datetime.strptime`\n",
      "  df['Date']= pd.to_datetime(df['Date'])\n"
     ]
    }
   ],
   "source": [
    "df['Date']= pd.to_datetime(df['Date'])"
   ]
  },
  {
   "cell_type": "code",
   "execution_count": 8,
   "metadata": {},
   "outputs": [
    {
     "data": {
      "text/plain": [
       "count    6987.000000\n",
       "mean       40.685061\n",
       "std        58.125169\n",
       "min         0.069792\n",
       "25%         2.110000\n",
       "50%         9.021000\n",
       "75%        73.006500\n",
       "max       242.059998\n",
       "Name: Close, dtype: float64"
      ]
     },
     "execution_count": 8,
     "metadata": {},
     "output_type": "execute_result"
    }
   ],
   "source": [
    "df['Close'].describe()"
   ]
  },
  {
   "cell_type": "code",
   "execution_count": 9,
   "metadata": {},
   "outputs": [
    {
     "data": {
      "text/plain": [
       "count    6987.000000\n",
       "mean       41.165619\n",
       "std        58.787641\n",
       "min         0.072396\n",
       "25%         2.148250\n",
       "50%         9.158500\n",
       "75%        73.643497\n",
       "max       242.520004\n",
       "Name: High, dtype: float64"
      ]
     },
     "execution_count": 9,
     "metadata": {},
     "output_type": "execute_result"
    }
   ],
   "source": [
    "df['High'].describe()"
   ]
  },
  {
   "cell_type": "code",
   "execution_count": 11,
   "metadata": {},
   "outputs": [],
   "source": [
    "df['Close']=df['Close'].apply(lambda x: 1 if x>40.685061 else 0)\n",
    "df['High']=df['High'].apply(lambda x: 1 if x>41.165619 else 0)\n"
   ]
  },
  {
   "cell_type": "code",
   "execution_count": 13,
   "metadata": {},
   "outputs": [],
   "source": [
    "final=df[['Date','High','Close']]"
   ]
  },
  {
   "cell_type": "code",
   "execution_count": 15,
   "metadata": {},
   "outputs": [
    {
     "data": {
      "text/html": [
       "<div>\n",
       "<style scoped>\n",
       "    .dataframe tbody tr th:only-of-type {\n",
       "        vertical-align: middle;\n",
       "    }\n",
       "\n",
       "    .dataframe tbody tr th {\n",
       "        vertical-align: top;\n",
       "    }\n",
       "\n",
       "    .dataframe thead th {\n",
       "        text-align: right;\n",
       "    }\n",
       "</style>\n",
       "<table border=\"1\" class=\"dataframe\">\n",
       "  <thead>\n",
       "    <tr style=\"text-align: right;\">\n",
       "      <th></th>\n",
       "      <th>High</th>\n",
       "      <th>Close</th>\n",
       "    </tr>\n",
       "    <tr>\n",
       "      <th>Date</th>\n",
       "      <th></th>\n",
       "      <th></th>\n",
       "    </tr>\n",
       "  </thead>\n",
       "  <tbody>\n",
       "    <tr>\n",
       "      <th>1997-05-15 00:00:00-04:00</th>\n",
       "      <td>0</td>\n",
       "      <td>0</td>\n",
       "    </tr>\n",
       "    <tr>\n",
       "      <th>1997-05-16 00:00:00-04:00</th>\n",
       "      <td>0</td>\n",
       "      <td>0</td>\n",
       "    </tr>\n",
       "    <tr>\n",
       "      <th>1997-05-19 00:00:00-04:00</th>\n",
       "      <td>0</td>\n",
       "      <td>0</td>\n",
       "    </tr>\n",
       "    <tr>\n",
       "      <th>1997-05-20 00:00:00-04:00</th>\n",
       "      <td>0</td>\n",
       "      <td>0</td>\n",
       "    </tr>\n",
       "    <tr>\n",
       "      <th>1997-05-21 00:00:00-04:00</th>\n",
       "      <td>0</td>\n",
       "      <td>0</td>\n",
       "    </tr>\n",
       "    <tr>\n",
       "      <th>...</th>\n",
       "      <td>...</td>\n",
       "      <td>...</td>\n",
       "    </tr>\n",
       "    <tr>\n",
       "      <th>2025-02-14 00:00:00-05:00</th>\n",
       "      <td>1</td>\n",
       "      <td>1</td>\n",
       "    </tr>\n",
       "    <tr>\n",
       "      <th>2025-02-18 00:00:00-05:00</th>\n",
       "      <td>1</td>\n",
       "      <td>1</td>\n",
       "    </tr>\n",
       "    <tr>\n",
       "      <th>2025-02-19 00:00:00-05:00</th>\n",
       "      <td>1</td>\n",
       "      <td>1</td>\n",
       "    </tr>\n",
       "    <tr>\n",
       "      <th>2025-02-20 00:00:00-05:00</th>\n",
       "      <td>1</td>\n",
       "      <td>1</td>\n",
       "    </tr>\n",
       "    <tr>\n",
       "      <th>2025-02-21 00:00:00-05:00</th>\n",
       "      <td>1</td>\n",
       "      <td>1</td>\n",
       "    </tr>\n",
       "  </tbody>\n",
       "</table>\n",
       "<p>6987 rows × 2 columns</p>\n",
       "</div>"
      ],
      "text/plain": [
       "                           High  Close\n",
       "Date                                  \n",
       "1997-05-15 00:00:00-04:00     0      0\n",
       "1997-05-16 00:00:00-04:00     0      0\n",
       "1997-05-19 00:00:00-04:00     0      0\n",
       "1997-05-20 00:00:00-04:00     0      0\n",
       "1997-05-21 00:00:00-04:00     0      0\n",
       "...                         ...    ...\n",
       "2025-02-14 00:00:00-05:00     1      1\n",
       "2025-02-18 00:00:00-05:00     1      1\n",
       "2025-02-19 00:00:00-05:00     1      1\n",
       "2025-02-20 00:00:00-05:00     1      1\n",
       "2025-02-21 00:00:00-05:00     1      1\n",
       "\n",
       "[6987 rows x 2 columns]"
      ]
     },
     "execution_count": 15,
     "metadata": {},
     "output_type": "execute_result"
    }
   ],
   "source": [
    "final.set_index('Date')"
   ]
  },
  {
   "cell_type": "markdown",
   "metadata": {},
   "source": [
    "Above you see a df that we are gonna use. We will use it to make an HMM model where our observations is the Close column and the Hidden state is the High column"
   ]
  },
  {
   "cell_type": "markdown",
   "metadata": {},
   "source": [
    "Goal: We are going to predict a hidden state(some Si) given some observations () i.e. Forward Algorithm = P(si=1|O1,...Ot)"
   ]
  },
  {
   "cell_type": "code",
   "execution_count": 17,
   "metadata": {},
   "outputs": [
    {
     "data": {
      "text/plain": [
       "'Your task: You guys need to calculate the Emission Matrix and Transition Matrix as well as the initial forward inference'"
      ]
     },
     "execution_count": 17,
     "metadata": {},
     "output_type": "execute_result"
    }
   ],
   "source": [
    "\"Your task: You guys need to calculate the Emission Matrix and Transition Matrix as well as the initial forward inference\""
   ]
  },
  {
   "cell_type": "code",
   "execution_count": null,
   "metadata": {},
   "outputs": [],
   "source": []
  }
 ],
 "metadata": {
  "kernelspec": {
   "display_name": "Python 3",
   "language": "python",
   "name": "python3"
  },
  "language_info": {
   "codemirror_mode": {
    "name": "ipython",
    "version": 3
   },
   "file_extension": ".py",
   "mimetype": "text/x-python",
   "name": "python",
   "nbconvert_exporter": "python",
   "pygments_lexer": "ipython3",
   "version": "3.12.1"
  }
 },
 "nbformat": 4,
 "nbformat_minor": 2
}
