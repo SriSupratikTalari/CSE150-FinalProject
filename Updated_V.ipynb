{
  "cells": [
    {
      "cell_type": "code",
      "execution_count": 45,
      "metadata": {
        "id": "AMjUvyGPmvuF"
      },
      "outputs": [],
      "source": [
        "import numpy as np\n",
        "import pandas as pd"
      ]
    },
    {
      "cell_type": "code",
      "execution_count": 46,
      "metadata": {
        "colab": {
          "base_uri": "https://localhost:8080/",
          "height": 424
        },
        "id": "rAXM5L26mvuH",
        "outputId": "69777ab8-0ad2-49f3-cb08-e020070c325e"
      },
      "outputs": [
        {
          "data": {
            "text/html": [
              "<div>\n",
              "<style scoped>\n",
              "    .dataframe tbody tr th:only-of-type {\n",
              "        vertical-align: middle;\n",
              "    }\n",
              "\n",
              "    .dataframe tbody tr th {\n",
              "        vertical-align: top;\n",
              "    }\n",
              "\n",
              "    .dataframe thead th {\n",
              "        text-align: right;\n",
              "    }\n",
              "</style>\n",
              "<table border=\"1\" class=\"dataframe\">\n",
              "  <thead>\n",
              "    <tr style=\"text-align: right;\">\n",
              "      <th></th>\n",
              "      <th>Date</th>\n",
              "      <th>Open</th>\n",
              "      <th>High</th>\n",
              "      <th>Low</th>\n",
              "      <th>Close</th>\n",
              "      <th>Volume</th>\n",
              "      <th>Dividends</th>\n",
              "      <th>Stock Splits</th>\n",
              "    </tr>\n",
              "  </thead>\n",
              "  <tbody>\n",
              "    <tr>\n",
              "      <th>0</th>\n",
              "      <td>1997-05-15 00:00:00-04:00</td>\n",
              "      <td>0.121875</td>\n",
              "      <td>0.125000</td>\n",
              "      <td>0.096354</td>\n",
              "      <td>0.097917</td>\n",
              "      <td>1443120000</td>\n",
              "      <td>0.0</td>\n",
              "      <td>0.0</td>\n",
              "    </tr>\n",
              "    <tr>\n",
              "      <th>1</th>\n",
              "      <td>1997-05-16 00:00:00-04:00</td>\n",
              "      <td>0.098438</td>\n",
              "      <td>0.098958</td>\n",
              "      <td>0.085417</td>\n",
              "      <td>0.086458</td>\n",
              "      <td>294000000</td>\n",
              "      <td>0.0</td>\n",
              "      <td>0.0</td>\n",
              "    </tr>\n",
              "    <tr>\n",
              "      <th>2</th>\n",
              "      <td>1997-05-19 00:00:00-04:00</td>\n",
              "      <td>0.088021</td>\n",
              "      <td>0.088542</td>\n",
              "      <td>0.081250</td>\n",
              "      <td>0.085417</td>\n",
              "      <td>122136000</td>\n",
              "      <td>0.0</td>\n",
              "      <td>0.0</td>\n",
              "    </tr>\n",
              "    <tr>\n",
              "      <th>3</th>\n",
              "      <td>1997-05-20 00:00:00-04:00</td>\n",
              "      <td>0.086458</td>\n",
              "      <td>0.087500</td>\n",
              "      <td>0.081771</td>\n",
              "      <td>0.081771</td>\n",
              "      <td>109344000</td>\n",
              "      <td>0.0</td>\n",
              "      <td>0.0</td>\n",
              "    </tr>\n",
              "    <tr>\n",
              "      <th>4</th>\n",
              "      <td>1997-05-21 00:00:00-04:00</td>\n",
              "      <td>0.081771</td>\n",
              "      <td>0.082292</td>\n",
              "      <td>0.068750</td>\n",
              "      <td>0.071354</td>\n",
              "      <td>377064000</td>\n",
              "      <td>0.0</td>\n",
              "      <td>0.0</td>\n",
              "    </tr>\n",
              "    <tr>\n",
              "      <th>...</th>\n",
              "      <td>...</td>\n",
              "      <td>...</td>\n",
              "      <td>...</td>\n",
              "      <td>...</td>\n",
              "      <td>...</td>\n",
              "      <td>...</td>\n",
              "      <td>...</td>\n",
              "      <td>...</td>\n",
              "    </tr>\n",
              "    <tr>\n",
              "      <th>6982</th>\n",
              "      <td>2025-02-14 00:00:00-05:00</td>\n",
              "      <td>229.199997</td>\n",
              "      <td>229.889999</td>\n",
              "      <td>227.229996</td>\n",
              "      <td>228.679993</td>\n",
              "      <td>27031100</td>\n",
              "      <td>0.0</td>\n",
              "      <td>0.0</td>\n",
              "    </tr>\n",
              "    <tr>\n",
              "      <th>6983</th>\n",
              "      <td>2025-02-18 00:00:00-05:00</td>\n",
              "      <td>228.820007</td>\n",
              "      <td>229.300003</td>\n",
              "      <td>223.720001</td>\n",
              "      <td>226.649994</td>\n",
              "      <td>42975100</td>\n",
              "      <td>0.0</td>\n",
              "      <td>0.0</td>\n",
              "    </tr>\n",
              "    <tr>\n",
              "      <th>6984</th>\n",
              "      <td>2025-02-19 00:00:00-05:00</td>\n",
              "      <td>225.520004</td>\n",
              "      <td>226.830002</td>\n",
              "      <td>223.710007</td>\n",
              "      <td>226.630005</td>\n",
              "      <td>28566700</td>\n",
              "      <td>0.0</td>\n",
              "      <td>0.0</td>\n",
              "    </tr>\n",
              "    <tr>\n",
              "      <th>6985</th>\n",
              "      <td>2025-02-20 00:00:00-05:00</td>\n",
              "      <td>224.779999</td>\n",
              "      <td>225.130005</td>\n",
              "      <td>221.809998</td>\n",
              "      <td>222.880005</td>\n",
              "      <td>30001700</td>\n",
              "      <td>0.0</td>\n",
              "      <td>0.0</td>\n",
              "    </tr>\n",
              "    <tr>\n",
              "      <th>6986</th>\n",
              "      <td>2025-02-21 00:00:00-05:00</td>\n",
              "      <td>223.279999</td>\n",
              "      <td>223.309998</td>\n",
              "      <td>214.740005</td>\n",
              "      <td>216.580002</td>\n",
              "      <td>55161000</td>\n",
              "      <td>0.0</td>\n",
              "      <td>0.0</td>\n",
              "    </tr>\n",
              "  </tbody>\n",
              "</table>\n",
              "<p>6987 rows × 8 columns</p>\n",
              "</div>"
            ],
            "text/plain": [
              "                           Date        Open        High         Low  \\\n",
              "0     1997-05-15 00:00:00-04:00    0.121875    0.125000    0.096354   \n",
              "1     1997-05-16 00:00:00-04:00    0.098438    0.098958    0.085417   \n",
              "2     1997-05-19 00:00:00-04:00    0.088021    0.088542    0.081250   \n",
              "3     1997-05-20 00:00:00-04:00    0.086458    0.087500    0.081771   \n",
              "4     1997-05-21 00:00:00-04:00    0.081771    0.082292    0.068750   \n",
              "...                         ...         ...         ...         ...   \n",
              "6982  2025-02-14 00:00:00-05:00  229.199997  229.889999  227.229996   \n",
              "6983  2025-02-18 00:00:00-05:00  228.820007  229.300003  223.720001   \n",
              "6984  2025-02-19 00:00:00-05:00  225.520004  226.830002  223.710007   \n",
              "6985  2025-02-20 00:00:00-05:00  224.779999  225.130005  221.809998   \n",
              "6986  2025-02-21 00:00:00-05:00  223.279999  223.309998  214.740005   \n",
              "\n",
              "           Close      Volume  Dividends  Stock Splits  \n",
              "0       0.097917  1443120000        0.0           0.0  \n",
              "1       0.086458   294000000        0.0           0.0  \n",
              "2       0.085417   122136000        0.0           0.0  \n",
              "3       0.081771   109344000        0.0           0.0  \n",
              "4       0.071354   377064000        0.0           0.0  \n",
              "...          ...         ...        ...           ...  \n",
              "6982  228.679993    27031100        0.0           0.0  \n",
              "6983  226.649994    42975100        0.0           0.0  \n",
              "6984  226.630005    28566700        0.0           0.0  \n",
              "6985  222.880005    30001700        0.0           0.0  \n",
              "6986  216.580002    55161000        0.0           0.0  \n",
              "\n",
              "[6987 rows x 8 columns]"
            ]
          },
          "execution_count": 46,
          "metadata": {},
          "output_type": "execute_result"
        }
      ],
      "source": [
        "df=pd.read_csv('AMZN_stock_data.csv')\n",
        "df"
      ]
    },
    {
      "cell_type": "code",
      "execution_count": 47,
      "metadata": {
        "colab": {
          "base_uri": "https://localhost:8080/"
        },
        "id": "lAGqZtQDmvuH",
        "outputId": "cbc4e527-b5fa-44eb-c6ab-5e3bb0aafce8"
      },
      "outputs": [
        {
          "name": "stderr",
          "output_type": "stream",
          "text": [
            "/var/folders/n_/1hzw47553v1bvg9z8kct6rd40000gn/T/ipykernel_40725/2691600196.py:1: FutureWarning: In a future version of pandas, parsing datetimes with mixed time zones will raise an error unless `utc=True`. Please specify `utc=True` to opt in to the new behaviour and silence this warning. To create a `Series` with mixed offsets and `object` dtype, please use `apply` and `datetime.datetime.strptime`\n",
            "  df['Date']= pd.to_datetime(df['Date'])\n"
          ]
        }
      ],
      "source": [
        "df['Date']= pd.to_datetime(df['Date'])"
      ]
    },
    {
      "cell_type": "code",
      "execution_count": 48,
      "metadata": {
        "colab": {
          "base_uri": "https://localhost:8080/",
          "height": 335
        },
        "id": "xg2-80zdmvuI",
        "outputId": "08539205-f14b-4a65-f60f-4229b2915397"
      },
      "outputs": [
        {
          "data": {
            "text/plain": [
              "count    6987.000000\n",
              "mean       40.685061\n",
              "std        58.125169\n",
              "min         0.069792\n",
              "25%         2.110000\n",
              "50%         9.021000\n",
              "75%        73.006500\n",
              "max       242.059998\n",
              "Name: Close, dtype: float64"
            ]
          },
          "execution_count": 48,
          "metadata": {},
          "output_type": "execute_result"
        }
      ],
      "source": [
        "df['Close'].describe()"
      ]
    },
    {
      "cell_type": "code",
      "execution_count": 49,
      "metadata": {
        "colab": {
          "base_uri": "https://localhost:8080/",
          "height": 335
        },
        "id": "YXUm03wVmvuI",
        "outputId": "46d5fb6c-c05f-4c05-c29b-58054f3a1b3b"
      },
      "outputs": [
        {
          "data": {
            "text/plain": [
              "count    6987.000000\n",
              "mean       41.165619\n",
              "std        58.787641\n",
              "min         0.072396\n",
              "25%         2.148250\n",
              "50%         9.158500\n",
              "75%        73.643497\n",
              "max       242.520004\n",
              "Name: High, dtype: float64"
            ]
          },
          "execution_count": 49,
          "metadata": {},
          "output_type": "execute_result"
        }
      ],
      "source": [
        "df['High'].describe()"
      ]
    },
    {
      "cell_type": "code",
      "execution_count": 50,
      "metadata": {
        "id": "x5IdvK6JmvuI"
      },
      "outputs": [],
      "source": [
        "df['Close']=df['Close'].apply(lambda x: 1 if x>40.685061 else 0)\n",
        "df['High']=df['High'].apply(lambda x: 1 if x>41.165619 else 0)\n"
      ]
    },
    {
      "cell_type": "code",
      "execution_count": 51,
      "metadata": {
        "id": "oS2WrtAfmvuI"
      },
      "outputs": [],
      "source": [
        "final=df[['Date','High','Close']]"
      ]
    },
    {
      "cell_type": "code",
      "execution_count": 52,
      "metadata": {
        "colab": {
          "base_uri": "https://localhost:8080/",
          "height": 455
        },
        "id": "_R1JvAwwmvuI",
        "outputId": "3858d84f-33ae-4a36-997c-ce771583373c"
      },
      "outputs": [
        {
          "data": {
            "text/html": [
              "<div>\n",
              "<style scoped>\n",
              "    .dataframe tbody tr th:only-of-type {\n",
              "        vertical-align: middle;\n",
              "    }\n",
              "\n",
              "    .dataframe tbody tr th {\n",
              "        vertical-align: top;\n",
              "    }\n",
              "\n",
              "    .dataframe thead th {\n",
              "        text-align: right;\n",
              "    }\n",
              "</style>\n",
              "<table border=\"1\" class=\"dataframe\">\n",
              "  <thead>\n",
              "    <tr style=\"text-align: right;\">\n",
              "      <th></th>\n",
              "      <th>High</th>\n",
              "      <th>Close</th>\n",
              "    </tr>\n",
              "    <tr>\n",
              "      <th>Date</th>\n",
              "      <th></th>\n",
              "      <th></th>\n",
              "    </tr>\n",
              "  </thead>\n",
              "  <tbody>\n",
              "    <tr>\n",
              "      <th>1997-05-15 00:00:00-04:00</th>\n",
              "      <td>0</td>\n",
              "      <td>0</td>\n",
              "    </tr>\n",
              "    <tr>\n",
              "      <th>1997-05-16 00:00:00-04:00</th>\n",
              "      <td>0</td>\n",
              "      <td>0</td>\n",
              "    </tr>\n",
              "    <tr>\n",
              "      <th>1997-05-19 00:00:00-04:00</th>\n",
              "      <td>0</td>\n",
              "      <td>0</td>\n",
              "    </tr>\n",
              "    <tr>\n",
              "      <th>1997-05-20 00:00:00-04:00</th>\n",
              "      <td>0</td>\n",
              "      <td>0</td>\n",
              "    </tr>\n",
              "    <tr>\n",
              "      <th>1997-05-21 00:00:00-04:00</th>\n",
              "      <td>0</td>\n",
              "      <td>0</td>\n",
              "    </tr>\n",
              "    <tr>\n",
              "      <th>...</th>\n",
              "      <td>...</td>\n",
              "      <td>...</td>\n",
              "    </tr>\n",
              "    <tr>\n",
              "      <th>2025-02-14 00:00:00-05:00</th>\n",
              "      <td>1</td>\n",
              "      <td>1</td>\n",
              "    </tr>\n",
              "    <tr>\n",
              "      <th>2025-02-18 00:00:00-05:00</th>\n",
              "      <td>1</td>\n",
              "      <td>1</td>\n",
              "    </tr>\n",
              "    <tr>\n",
              "      <th>2025-02-19 00:00:00-05:00</th>\n",
              "      <td>1</td>\n",
              "      <td>1</td>\n",
              "    </tr>\n",
              "    <tr>\n",
              "      <th>2025-02-20 00:00:00-05:00</th>\n",
              "      <td>1</td>\n",
              "      <td>1</td>\n",
              "    </tr>\n",
              "    <tr>\n",
              "      <th>2025-02-21 00:00:00-05:00</th>\n",
              "      <td>1</td>\n",
              "      <td>1</td>\n",
              "    </tr>\n",
              "  </tbody>\n",
              "</table>\n",
              "<p>6987 rows × 2 columns</p>\n",
              "</div>"
            ],
            "text/plain": [
              "                           High  Close\n",
              "Date                                  \n",
              "1997-05-15 00:00:00-04:00     0      0\n",
              "1997-05-16 00:00:00-04:00     0      0\n",
              "1997-05-19 00:00:00-04:00     0      0\n",
              "1997-05-20 00:00:00-04:00     0      0\n",
              "1997-05-21 00:00:00-04:00     0      0\n",
              "...                         ...    ...\n",
              "2025-02-14 00:00:00-05:00     1      1\n",
              "2025-02-18 00:00:00-05:00     1      1\n",
              "2025-02-19 00:00:00-05:00     1      1\n",
              "2025-02-20 00:00:00-05:00     1      1\n",
              "2025-02-21 00:00:00-05:00     1      1\n",
              "\n",
              "[6987 rows x 2 columns]"
            ]
          },
          "execution_count": 52,
          "metadata": {},
          "output_type": "execute_result"
        }
      ],
      "source": [
        "final.set_index('Date')"
      ]
    },
    {
      "cell_type": "code",
      "execution_count": 53,
      "metadata": {},
      "outputs": [],
      "source": [
        "from sklearn.model_selection import train_test_split\n",
        "train_size = int(0.8 * len(final))\n",
        "train_df = final.iloc[:train_size]\n",
        "test_df = final.iloc[train_size:]"
      ]
    },
    {
      "cell_type": "code",
      "execution_count": 54,
      "metadata": {
        "id": "iVi3znRP1JYB"
      },
      "outputs": [],
      "source": [
        "# Step 1: Build state and observation label lists\n",
        "train_states = sorted(train_df['High'].unique())       # e.g. [0, 1]\n",
        "train_observations = sorted(train_df['Close'].unique())# e.g. [0, 1]"
      ]
    },
    {
      "cell_type": "code",
      "execution_count": 55,
      "metadata": {
        "colab": {
          "base_uri": "https://localhost:8080/"
        },
        "id": "5Axx1gYNpug5",
        "outputId": "1f615cbc-1e83-4426-dfa1-00a707f4b5dc"
      },
      "outputs": [
        {
          "data": {
            "text/plain": [
              "array([[0.99838188, 0.00161812],\n",
              "       [0.00154083, 0.99845917]])"
            ]
          },
          "execution_count": 55,
          "metadata": {},
          "output_type": "execute_result"
        }
      ],
      "source": [
        "def calculate_emission_matrix(observations_seq, states_seq, obs_symbols=None, state_symbols=None, smoothing=1):\n",
        "    if obs_symbols is None:\n",
        "        obs_symbols = sorted(set(observations_seq))\n",
        "    if state_symbols is None:\n",
        "        state_symbols = sorted(set(states_seq))\n",
        "    obs_idx = {obs: i for i, obs in enumerate(obs_symbols)}\n",
        "    state_idx = {state: i for i, state in enumerate(state_symbols)}\n",
        "\n",
        "    num_states = len(state_symbols)\n",
        "    num_obs = len(obs_symbols)\n",
        "\n",
        "    # Start with smoothing counts instead of zeros\n",
        "    emission_matrix = np.ones((num_states, num_obs)) * smoothing\n",
        "\n",
        "    for s, o in zip(states_seq, observations_seq):\n",
        "        i = state_idx[s]\n",
        "        j = obs_idx[o]\n",
        "        emission_matrix[i, j] += 1\n",
        "\n",
        "    # Normalize rows\n",
        "    row_sums = emission_matrix.sum(axis=1, keepdims=True)\n",
        "    emission_matrix = emission_matrix / row_sums\n",
        "\n",
        "    return emission_matrix, state_symbols, obs_symbols\n",
        "emit_prob, state_labels, obs_labels = calculate_emission_matrix(\n",
        "    train_df['Close'].values, train_df['High'].values, train_observations, train_states\n",
        ")\n",
        "emit_prob"
      ]
    },
    {
      "cell_type": "code",
      "execution_count": 56,
      "metadata": {
        "colab": {
          "base_uri": "https://localhost:8080/"
        },
        "id": "biASD7TImvuJ",
        "outputId": "968fcc8a-586f-4716-e9ca-5c5667953771"
      },
      "outputs": [
        {
          "data": {
            "text/plain": [
              "array([[9.99190611e-01, 8.09388911e-04],\n",
              "       [4.64396285e-03, 9.95356037e-01]])"
            ]
          },
          "execution_count": 56,
          "metadata": {},
          "output_type": "execute_result"
        }
      ],
      "source": [
        "def calculate_transition_matrix(states_sequence, all_states=None, smoothing=0):\n",
        "    if all_states is None:\n",
        "        states = sorted(set(states_sequence))\n",
        "    else:\n",
        "        states = list(all_states)\n",
        "    state_idx = {state:i for i, state in enumerate(states)}\n",
        "    num_states = len(states)\n",
        "    counts = np.zeros((num_states, num_states))\n",
        "    for t in range(1, len(states_sequence)):\n",
        "        i = state_idx[states_sequence[t-1]]\n",
        "        j = state_idx[states_sequence[t]]\n",
        "        counts[i, j] += 1\n",
        "    if smoothing > 0:\n",
        "        counts += smoothing\n",
        "    row_sums = counts.sum(axis=1, keepdims=True)\n",
        "    transition_matrix = np.divide(counts, row_sums, where=row_sums!=0)\n",
        "    return transition_matrix, states\n",
        "\n",
        "trans_prob, state_labels = calculate_transition_matrix(train_df['High'].values, train_states)\n",
        "trans_prob"
      ]
    },
    {
      "cell_type": "markdown",
      "metadata": {
        "id": "zjDC3oqwmvuJ"
      },
      "source": [
        "Above you see a df that we are gonna use. We will use it to make an HMM model where our observations is the Close column and the Hidden state is the High column"
      ]
    },
    {
      "cell_type": "markdown",
      "metadata": {
        "id": "rDdTyMoFmvuJ"
      },
      "source": [
        "Goal: We are going to predict a hidden state(some Si) given some observations () i.e. Forward Algorithm = P(si=1|O1,...Ot)"
      ]
    },
    {
      "cell_type": "code",
      "execution_count": 57,
      "metadata": {
        "colab": {
          "base_uri": "https://localhost:8080/",
          "height": 35
        },
        "id": "GAOGrKS-mvuJ",
        "outputId": "a7ba4057-9ac8-4dea-d9aa-0dc11b80bf28"
      },
      "outputs": [
        {
          "data": {
            "text/plain": [
              "'Your task: You guys need to calculate the Emission Matrix and Transition Matrix as well as the initial forward inference'"
            ]
          },
          "execution_count": 57,
          "metadata": {},
          "output_type": "execute_result"
        }
      ],
      "source": [
        "\"Your task: You guys need to calculate the Emission Matrix and Transition Matrix as well as the initial forward inference\""
      ]
    },
    {
      "cell_type": "code",
      "execution_count": 58,
      "metadata": {
        "id": "QbK3uJIPllog"
      },
      "outputs": [],
      "source": [
        "class HiddenMarkovModel:\n",
        "    \"\"\"A Hidden markov model which takes Transition matrix and Emmission matrix as inputs\"\"\"\n",
        "\n",
        "    def __init__(self, transition_matrix, emission_matrix, prior=None):\n",
        "      self.transition_matrix = transition_matrix\n",
        "      self.emission_matrix = emission_matrix\n",
        "      self.prior = prior\n",
        "      return None\n",
        "\n",
        "    def emission_dist(self, ev):\n",
        "      return self.emission_matrix[:, ev]"
      ]
    },
    {
      "cell_type": "code",
      "execution_count": 59,
      "metadata": {
        "id": "_JC_1pj4lloh"
      },
      "outputs": [],
      "source": [
        "def forward_step(Hmm,trans, fv, ev):\n",
        "  emission_dist = Hmm.emission_dist(ev)\n",
        "  forward_inf = fv\n",
        "  transition_matrix = trans\n",
        "\n",
        "  nonNormSolution = emission_dist * np.array([[1,0],[0,1]]) @transition_matrix @ forward_inf\n",
        "  alpha = nonNormSolution / np.sum(nonNormSolution)\n",
        "\n",
        "\n",
        "  return alpha"
      ]
    },
    {
      "cell_type": "code",
      "execution_count": 60,
      "metadata": {
        "id": "5G7K33yplloh"
      },
      "outputs": [],
      "source": [
        "def forward_algorithm(Hmm,observations):\n",
        "    T = len(observations)\n",
        "    N = len(Hmm.prior)\n",
        "\n",
        "    alpha = np.zeros((T,N))\n",
        "\n",
        "    alpha[0] = Hmm.prior * Hmm.emission_dist(observations[0])\n",
        "    alpha[0] = alpha[0] / np.sum(alpha[0])\n",
        "\n",
        "    for t in range(1,T):\n",
        "        alpha[t] = forward_step(Hmm,Hmm.transition_matrix, alpha[t-1],observations[t])\n",
        "    return alpha"
      ]
    },
    {
      "cell_type": "code",
      "execution_count": 61,
      "metadata": {
        "colab": {
          "base_uri": "https://localhost:8080/"
        },
        "id": "h9J3ZOQzlloh",
        "outputId": "e56b08e9-67db-4a61-f7ea-ad5423ae8524"
      },
      "outputs": [
        {
          "data": {
            "text/plain": [
              "array([[9.98459049e-01, 1.54095115e-03],\n",
              "       [9.99990454e-01, 9.54559145e-06],\n",
              "       [9.99992812e-01, 7.18759375e-06],\n",
              "       ...,\n",
              "       [1.31997756e-06, 9.99998680e-01],\n",
              "       [1.31997756e-06, 9.99998680e-01],\n",
              "       [1.31997756e-06, 9.99998680e-01]])"
            ]
          },
          "execution_count": 61,
          "metadata": {},
          "output_type": "execute_result"
        }
      ],
      "source": [
        "obs=list(train_df['Close'])\n",
        "start_prob = np.ones(len(train_states)) / len(train_states)  # or a real prior if available\n",
        "Hmm = HiddenMarkovModel(trans_prob, emit_prob, prior=start_prob)\n",
        "forward_algorithm(Hmm,obs)"
      ]
    },
    {
      "cell_type": "code",
      "execution_count": 62,
      "metadata": {
        "id": "AoQt4E7V0X-A"
      },
      "outputs": [],
      "source": [
        "N = len(train_states)\n",
        "start_prob = np.ones(N) / N "
      ]
    },
    {
      "cell_type": "code",
      "execution_count": 63,
      "metadata": {
        "colab": {
          "base_uri": "https://localhost:8080/"
        },
        "id": "vjMV8sDQmvuK",
        "outputId": "b231f5a0-60a4-47f6-9d82-9cc9fc17dd73"
      },
      "outputs": [
        {
          "data": {
            "text/plain": [
              "array([[4.95596377e-30, 2.30694220e-32],\n",
              "       [4.96801716e-30, 2.31255291e-32],\n",
              "       [4.98009986e-30, 2.31817726e-32],\n",
              "       ...,\n",
              "       [8.07076143e-04, 9.87690371e-01],\n",
              "       [2.42495507e-03, 9.93829875e-01],\n",
              "       [1.00000000e+00, 1.00000000e+00]])"
            ]
          },
          "execution_count": 63,
          "metadata": {},
          "output_type": "execute_result"
        }
      ],
      "source": [
        "# ---- Backward algorithm ----\n",
        "def backward_algorithm(obs, states, start_prob, trans_prob, emit_prob):\n",
        "    N = len(states)\n",
        "    T = len(obs)\n",
        "    backward = np.zeros((T, N))\n",
        "    backward[T-1, :] = 1\n",
        "    for t in range(T-2, -1, -1):\n",
        "        for i in range(N):\n",
        "            backward[t, i] = np.sum(trans_prob[i, :] * emit_prob[:, obs[t+1]] * backward[t+1, :])\n",
        "    prob = np.sum(start_prob * emit_prob[:, obs[0]] * backward[0, :])\n",
        "    return backward, prob\n",
        "\n",
        "backward_matrix, sequence_prob = backward_algorithm(\n",
        "    obs, train_states, start_prob, trans_prob, emit_prob\n",
        ")\n",
        "\n",
        "backward_matrix"
      ]
    },
    {
      "cell_type": "code",
      "execution_count": 64,
      "metadata": {
        "colab": {
          "base_uri": "https://localhost:8080/"
        },
        "id": "5juc1FArm4Vr",
        "outputId": "bb3f74c8-0753-40fd-cb6e-b8853e8a90c7"
      },
      "outputs": [
        {
          "name": "stdout",
          "output_type": "stream",
          "text": [
            "Backward probability matrix shape: (5589, 2)\n",
            "Probability of observation sequence under the HMM: 2.473989980208364e-30\n"
          ]
        }
      ],
      "source": [
        "backward_matrix, sequence_prob = backward_algorithm(\n",
        "    obs, train_states, start_prob, trans_prob, emit_prob\n",
        ")\n",
        "\n",
        "print(\"Backward probability matrix shape:\", backward_matrix.shape)\n",
        "print(\"Probability of observation sequence under the HMM:\", sequence_prob)"
      ]
    },
    {
      "cell_type": "code",
      "execution_count": 65,
      "metadata": {
        "id": "4l9_R7dyzUCm"
      },
      "outputs": [],
      "source": [
        "def viterbi_algorithm(obs, states, start_prob, trans_prob, emit_prob):\n",
        "    \"\"\"\n",
        "    obs: list or array of observations (as integer indices)\n",
        "    states: list of state names or values\n",
        "    start_prob: numpy array of shape (N,)\n",
        "    trans_prob: numpy array of shape (N,N)\n",
        "    emit_prob: numpy array of shape (N,M)\n",
        "\n",
        "    Returns:\n",
        "        best_path: list of most likely states (by label, not index)\n",
        "        delta: np.ndarray of shape (T, N), max probability at each state, each t\n",
        "        psi: np.ndarray of shape (T, N), backpointer for optimal path\n",
        "    \"\"\"\n",
        "    N = len(states)\n",
        "    T = len(obs)\n",
        "\n",
        "    delta = np.zeros((T, N))\n",
        "    psi = np.zeros((T, N), dtype=int)\n",
        "\n",
        "    # Initialization\n",
        "    delta[0, :] = start_prob * emit_prob[:, obs[0]]\n",
        "    psi[0, :] = 0\n",
        "\n",
        "    # Recursion\n",
        "    for t in range(1, T):\n",
        "        for j in range(N):\n",
        "            # For each state j, find best prior state i\n",
        "            seq_probs = delta[t-1, :] * trans_prob[:, j]\n",
        "            psi[t, j] = np.argmax(seq_probs)\n",
        "            delta[t, j] = np.max(seq_probs) * emit_prob[j, obs[t]]\n",
        "\n",
        "    # Termination\n",
        "    best_last_state = np.argmax(delta[T-1, :])\n",
        "    best_path_idx = np.zeros(T, dtype=int)\n",
        "    best_path_idx[T-1] = best_last_state\n",
        "\n",
        "    # Path backtracking\n",
        "    for t in range(T-2, -1, -1):\n",
        "        best_path_idx[t] = psi[t+1, best_path_idx[t+1]]\n",
        "\n",
        "    # Convert indices to state labels\n",
        "    best_path = [states[i] for i in best_path_idx]\n",
        "\n",
        "    return best_path, delta, psi\n"
      ]
    },
    {
      "cell_type": "code",
      "execution_count": 66,
      "metadata": {
        "colab": {
          "base_uri": "https://localhost:8080/"
        },
        "id": "DVv-6-dennj7",
        "outputId": "be59458c-e393-4f3d-dd29-826f71d6ed9f"
      },
      "outputs": [
        {
          "ename": "ValueError",
          "evalue": "Length of values (6987) does not match length of index (5589)",
          "output_type": "error",
          "traceback": [
            "\u001b[31m---------------------------------------------------------------------------\u001b[39m",
            "\u001b[31mValueError\u001b[39m                                Traceback (most recent call last)",
            "\u001b[36mCell\u001b[39m\u001b[36m \u001b[39m\u001b[32mIn[66]\u001b[39m\u001b[32m, line 19\u001b[39m\n\u001b[32m     17\u001b[39m \u001b[38;5;66;03m# If you want to add this to your DataFrame\u001b[39;00m\n\u001b[32m     18\u001b[39m final = train_df.copy()  \u001b[38;5;66;03m# avoid modifying original\u001b[39;00m\n\u001b[32m---> \u001b[39m\u001b[32m19\u001b[39m \u001b[43mfinal\u001b[49m\u001b[43m[\u001b[49m\u001b[33;43m'\u001b[39;49m\u001b[33;43mpath\u001b[39;49m\u001b[33;43m'\u001b[39;49m\u001b[43m]\u001b[49m = labels\n\u001b[32m     21\u001b[39m \u001b[38;5;28mprint\u001b[39m(final[[\u001b[33m'\u001b[39m\u001b[33mHigh\u001b[39m\u001b[33m'\u001b[39m, \u001b[33m'\u001b[39m\u001b[33mClose\u001b[39m\u001b[33m'\u001b[39m, \u001b[33m'\u001b[39m\u001b[33mpath\u001b[39m\u001b[33m'\u001b[39m]].to_string(index=\u001b[38;5;28;01mFalse\u001b[39;00m))\n",
            "\u001b[36mFile \u001b[39m\u001b[32m/Library/Frameworks/Python.framework/Versions/3.12/lib/python3.12/site-packages/pandas/core/frame.py:4311\u001b[39m, in \u001b[36mDataFrame.__setitem__\u001b[39m\u001b[34m(self, key, value)\u001b[39m\n\u001b[32m   4308\u001b[39m     \u001b[38;5;28mself\u001b[39m._setitem_array([key], value)\n\u001b[32m   4309\u001b[39m \u001b[38;5;28;01melse\u001b[39;00m:\n\u001b[32m   4310\u001b[39m     \u001b[38;5;66;03m# set column\u001b[39;00m\n\u001b[32m-> \u001b[39m\u001b[32m4311\u001b[39m     \u001b[38;5;28;43mself\u001b[39;49m\u001b[43m.\u001b[49m\u001b[43m_set_item\u001b[49m\u001b[43m(\u001b[49m\u001b[43mkey\u001b[49m\u001b[43m,\u001b[49m\u001b[43m \u001b[49m\u001b[43mvalue\u001b[49m\u001b[43m)\u001b[49m\n",
            "\u001b[36mFile \u001b[39m\u001b[32m/Library/Frameworks/Python.framework/Versions/3.12/lib/python3.12/site-packages/pandas/core/frame.py:4524\u001b[39m, in \u001b[36mDataFrame._set_item\u001b[39m\u001b[34m(self, key, value)\u001b[39m\n\u001b[32m   4514\u001b[39m \u001b[38;5;28;01mdef\u001b[39;00m\u001b[38;5;250m \u001b[39m\u001b[34m_set_item\u001b[39m(\u001b[38;5;28mself\u001b[39m, key, value) -> \u001b[38;5;28;01mNone\u001b[39;00m:\n\u001b[32m   4515\u001b[39m \u001b[38;5;250m    \u001b[39m\u001b[33;03m\"\"\"\u001b[39;00m\n\u001b[32m   4516\u001b[39m \u001b[33;03m    Add series to DataFrame in specified column.\u001b[39;00m\n\u001b[32m   4517\u001b[39m \n\u001b[32m   (...)\u001b[39m\u001b[32m   4522\u001b[39m \u001b[33;03m    ensure homogeneity.\u001b[39;00m\n\u001b[32m   4523\u001b[39m \u001b[33;03m    \"\"\"\u001b[39;00m\n\u001b[32m-> \u001b[39m\u001b[32m4524\u001b[39m     value, refs = \u001b[38;5;28;43mself\u001b[39;49m\u001b[43m.\u001b[49m\u001b[43m_sanitize_column\u001b[49m\u001b[43m(\u001b[49m\u001b[43mvalue\u001b[49m\u001b[43m)\u001b[49m\n\u001b[32m   4526\u001b[39m     \u001b[38;5;28;01mif\u001b[39;00m (\n\u001b[32m   4527\u001b[39m         key \u001b[38;5;129;01min\u001b[39;00m \u001b[38;5;28mself\u001b[39m.columns\n\u001b[32m   4528\u001b[39m         \u001b[38;5;129;01mand\u001b[39;00m value.ndim == \u001b[32m1\u001b[39m\n\u001b[32m   4529\u001b[39m         \u001b[38;5;129;01mand\u001b[39;00m \u001b[38;5;129;01mnot\u001b[39;00m \u001b[38;5;28misinstance\u001b[39m(value.dtype, ExtensionDtype)\n\u001b[32m   4530\u001b[39m     ):\n\u001b[32m   4531\u001b[39m         \u001b[38;5;66;03m# broadcast across multiple columns if necessary\u001b[39;00m\n\u001b[32m   4532\u001b[39m         \u001b[38;5;28;01mif\u001b[39;00m \u001b[38;5;129;01mnot\u001b[39;00m \u001b[38;5;28mself\u001b[39m.columns.is_unique \u001b[38;5;129;01mor\u001b[39;00m \u001b[38;5;28misinstance\u001b[39m(\u001b[38;5;28mself\u001b[39m.columns, MultiIndex):\n",
            "\u001b[36mFile \u001b[39m\u001b[32m/Library/Frameworks/Python.framework/Versions/3.12/lib/python3.12/site-packages/pandas/core/frame.py:5266\u001b[39m, in \u001b[36mDataFrame._sanitize_column\u001b[39m\u001b[34m(self, value)\u001b[39m\n\u001b[32m   5263\u001b[39m     \u001b[38;5;28;01mreturn\u001b[39;00m _reindex_for_setitem(value, \u001b[38;5;28mself\u001b[39m.index)\n\u001b[32m   5265\u001b[39m \u001b[38;5;28;01mif\u001b[39;00m is_list_like(value):\n\u001b[32m-> \u001b[39m\u001b[32m5266\u001b[39m     \u001b[43mcom\u001b[49m\u001b[43m.\u001b[49m\u001b[43mrequire_length_match\u001b[49m\u001b[43m(\u001b[49m\u001b[43mvalue\u001b[49m\u001b[43m,\u001b[49m\u001b[43m \u001b[49m\u001b[38;5;28;43mself\u001b[39;49m\u001b[43m.\u001b[49m\u001b[43mindex\u001b[49m\u001b[43m)\u001b[49m\n\u001b[32m   5267\u001b[39m arr = sanitize_array(value, \u001b[38;5;28mself\u001b[39m.index, copy=\u001b[38;5;28;01mTrue\u001b[39;00m, allow_2d=\u001b[38;5;28;01mTrue\u001b[39;00m)\n\u001b[32m   5268\u001b[39m \u001b[38;5;28;01mif\u001b[39;00m (\n\u001b[32m   5269\u001b[39m     \u001b[38;5;28misinstance\u001b[39m(value, Index)\n\u001b[32m   5270\u001b[39m     \u001b[38;5;129;01mand\u001b[39;00m value.dtype == \u001b[33m\"\u001b[39m\u001b[33mobject\u001b[39m\u001b[33m\"\u001b[39m\n\u001b[32m   (...)\u001b[39m\u001b[32m   5273\u001b[39m     \u001b[38;5;66;03m# TODO: Remove kludge in sanitize_array for string mode when enforcing\u001b[39;00m\n\u001b[32m   5274\u001b[39m     \u001b[38;5;66;03m# this deprecation\u001b[39;00m\n",
            "\u001b[36mFile \u001b[39m\u001b[32m/Library/Frameworks/Python.framework/Versions/3.12/lib/python3.12/site-packages/pandas/core/common.py:573\u001b[39m, in \u001b[36mrequire_length_match\u001b[39m\u001b[34m(data, index)\u001b[39m\n\u001b[32m    569\u001b[39m \u001b[38;5;250m\u001b[39m\u001b[33;03m\"\"\"\u001b[39;00m\n\u001b[32m    570\u001b[39m \u001b[33;03mCheck the length of data matches the length of the index.\u001b[39;00m\n\u001b[32m    571\u001b[39m \u001b[33;03m\"\"\"\u001b[39;00m\n\u001b[32m    572\u001b[39m \u001b[38;5;28;01mif\u001b[39;00m \u001b[38;5;28mlen\u001b[39m(data) != \u001b[38;5;28mlen\u001b[39m(index):\n\u001b[32m--> \u001b[39m\u001b[32m573\u001b[39m     \u001b[38;5;28;01mraise\u001b[39;00m \u001b[38;5;167;01mValueError\u001b[39;00m(\n\u001b[32m    574\u001b[39m         \u001b[33m\"\u001b[39m\u001b[33mLength of values \u001b[39m\u001b[33m\"\u001b[39m\n\u001b[32m    575\u001b[39m         \u001b[33mf\u001b[39m\u001b[33m\"\u001b[39m\u001b[33m(\u001b[39m\u001b[38;5;132;01m{\u001b[39;00m\u001b[38;5;28mlen\u001b[39m(data)\u001b[38;5;132;01m}\u001b[39;00m\u001b[33m) \u001b[39m\u001b[33m\"\u001b[39m\n\u001b[32m    576\u001b[39m         \u001b[33m\"\u001b[39m\u001b[33mdoes not match length of index \u001b[39m\u001b[33m\"\u001b[39m\n\u001b[32m    577\u001b[39m         \u001b[33mf\u001b[39m\u001b[33m\"\u001b[39m\u001b[33m(\u001b[39m\u001b[38;5;132;01m{\u001b[39;00m\u001b[38;5;28mlen\u001b[39m(index)\u001b[38;5;132;01m}\u001b[39;00m\u001b[33m)\u001b[39m\u001b[33m\"\u001b[39m\n\u001b[32m    578\u001b[39m     )\n",
            "\u001b[31mValueError\u001b[39m: Length of values (6987) does not match length of index (5589)"
          ]
        }
      ],
      "source": [
        "obs_seq = [obs_labels.index(v) for v in final['Close'].values]\n",
        "N = len(state_labels)\n",
        "start_prob = np.ones(N) / N\n",
        "\n",
        "best_path, delta, psi = viterbi_algorithm(\n",
        "    obs=obs_seq,\n",
        "    states=state_labels,\n",
        "    start_prob=start_prob,\n",
        "    trans_prob=trans_prob,\n",
        "    emit_prob=emit_prob\n",
        ")\n",
        "\n",
        "# Map 0 to \"below median \", 1 to \"above median\"\n",
        "labels = [\"below median\" if state == 0 else \"above median\" for state in best_path]\n",
        "\n",
        "\n",
        "# If you want to add this to your DataFrame\n",
        "final = train_df.copy()  # avoid modifying original\n",
        "final['path'] = labels\n",
        "\n",
        "print(final[['High', 'Close', 'path']].to_string(index=False))\n"
      ]
    },
    {
      "cell_type": "code",
      "execution_count": null,
      "metadata": {
        "id": "7wsglpaUn427"
      },
      "outputs": [
        {
          "name": "stdout",
          "output_type": "stream",
          "text": [
            "Accuracy: 0.9989\n",
            "Confusion Matrix:\n",
            "[[4934    8]\n",
            " [   0 2045]]\n",
            "Precision: 0.9961\n",
            "Recall:    1.0000\n",
            "F1 Score:  0.9980\n"
          ]
        }
      ],
      "source": [
        "from sklearn.metrics import accuracy_score, confusion_matrix, precision_score, recall_score, f1_score\n",
        "\n",
        "# True hidden states (e.g., High column)\n",
        "true_states = train_df['High'].values\n",
        "\n",
        "# Predicted hidden states from Viterbi\n",
        "predicted_states = best_path\n",
        "\n",
        "# Basic metrics\n",
        "accuracy = accuracy_score(true_states, predicted_states)\n",
        "conf_matrix = confusion_matrix(true_states, predicted_states)\n",
        "precision = precision_score(true_states, predicted_states, zero_division=0)\n",
        "recall = recall_score(true_states, predicted_states, zero_division=0)\n",
        "f1 = f1_score(true_states, predicted_states, zero_division=0)\n",
        "\n",
        "# Print results\n",
        "print(f\"Accuracy: {accuracy:.4f}\")\n",
        "print(\"Confusion Matrix:\")\n",
        "print(conf_matrix)\n",
        "print(f\"Precision: {precision:.4f}\")\n",
        "print(f\"Recall:    {recall:.4f}\")\n",
        "print(f\"F1 Score:  {f1:.4f}\")"
      ]
    },
    {
      "cell_type": "code",
      "execution_count": null,
      "metadata": {
        "id": "qr0Cr9kSnsiJ"
      },
      "outputs": [],
      "source": []
    }
  ],
  "metadata": {
    "colab": {
      "provenance": []
    },
    "kernelspec": {
      "display_name": "Python 3",
      "language": "python",
      "name": "python3"
    },
    "language_info": {
      "codemirror_mode": {
        "name": "ipython",
        "version": 3
      },
      "file_extension": ".py",
      "mimetype": "text/x-python",
      "name": "python",
      "nbconvert_exporter": "python",
      "pygments_lexer": "ipython3",
      "version": "3.12.1"
    }
  },
  "nbformat": 4,
  "nbformat_minor": 0
}
