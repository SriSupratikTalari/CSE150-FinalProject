{
  "cells": [
    {
      "cell_type": "code",
      "execution_count": 4,
      "metadata": {
        "id": "AMjUvyGPmvuF"
      },
      "outputs": [],
      "source": [
        "import numpy as np\n",
        "import pandas as pd"
      ]
    },
    {
      "cell_type": "code",
      "execution_count": 5,
      "metadata": {
        "colab": {
          "base_uri": "https://localhost:8080/",
          "height": 615
        },
        "id": "rAXM5L26mvuH",
        "outputId": "c2cfe98c-76d7-40fc-f4f0-4fd85e541fe5"
      },
      "outputs": [
        {
          "data": {
            "text/html": [
              "<div>\n",
              "<style scoped>\n",
              "    .dataframe tbody tr th:only-of-type {\n",
              "        vertical-align: middle;\n",
              "    }\n",
              "\n",
              "    .dataframe tbody tr th {\n",
              "        vertical-align: top;\n",
              "    }\n",
              "\n",
              "    .dataframe thead th {\n",
              "        text-align: right;\n",
              "    }\n",
              "</style>\n",
              "<table border=\"1\" class=\"dataframe\">\n",
              "  <thead>\n",
              "    <tr style=\"text-align: right;\">\n",
              "      <th></th>\n",
              "      <th>Date</th>\n",
              "      <th>Open</th>\n",
              "      <th>High</th>\n",
              "      <th>Low</th>\n",
              "      <th>Close</th>\n",
              "      <th>Volume</th>\n",
              "      <th>Dividends</th>\n",
              "      <th>Stock Splits</th>\n",
              "    </tr>\n",
              "  </thead>\n",
              "  <tbody>\n",
              "    <tr>\n",
              "      <th>0</th>\n",
              "      <td>1997-05-15 00:00:00-04:00</td>\n",
              "      <td>0.121875</td>\n",
              "      <td>0.125000</td>\n",
              "      <td>0.096354</td>\n",
              "      <td>0.097917</td>\n",
              "      <td>1443120000</td>\n",
              "      <td>0.0</td>\n",
              "      <td>0.0</td>\n",
              "    </tr>\n",
              "    <tr>\n",
              "      <th>1</th>\n",
              "      <td>1997-05-16 00:00:00-04:00</td>\n",
              "      <td>0.098438</td>\n",
              "      <td>0.098958</td>\n",
              "      <td>0.085417</td>\n",
              "      <td>0.086458</td>\n",
              "      <td>294000000</td>\n",
              "      <td>0.0</td>\n",
              "      <td>0.0</td>\n",
              "    </tr>\n",
              "    <tr>\n",
              "      <th>2</th>\n",
              "      <td>1997-05-19 00:00:00-04:00</td>\n",
              "      <td>0.088021</td>\n",
              "      <td>0.088542</td>\n",
              "      <td>0.081250</td>\n",
              "      <td>0.085417</td>\n",
              "      <td>122136000</td>\n",
              "      <td>0.0</td>\n",
              "      <td>0.0</td>\n",
              "    </tr>\n",
              "    <tr>\n",
              "      <th>3</th>\n",
              "      <td>1997-05-20 00:00:00-04:00</td>\n",
              "      <td>0.086458</td>\n",
              "      <td>0.087500</td>\n",
              "      <td>0.081771</td>\n",
              "      <td>0.081771</td>\n",
              "      <td>109344000</td>\n",
              "      <td>0.0</td>\n",
              "      <td>0.0</td>\n",
              "    </tr>\n",
              "    <tr>\n",
              "      <th>4</th>\n",
              "      <td>1997-05-21 00:00:00-04:00</td>\n",
              "      <td>0.081771</td>\n",
              "      <td>0.082292</td>\n",
              "      <td>0.068750</td>\n",
              "      <td>0.071354</td>\n",
              "      <td>377064000</td>\n",
              "      <td>0.0</td>\n",
              "      <td>0.0</td>\n",
              "    </tr>\n",
              "    <tr>\n",
              "      <th>...</th>\n",
              "      <td>...</td>\n",
              "      <td>...</td>\n",
              "      <td>...</td>\n",
              "      <td>...</td>\n",
              "      <td>...</td>\n",
              "      <td>...</td>\n",
              "      <td>...</td>\n",
              "      <td>...</td>\n",
              "    </tr>\n",
              "    <tr>\n",
              "      <th>6982</th>\n",
              "      <td>2025-02-14 00:00:00-05:00</td>\n",
              "      <td>229.199997</td>\n",
              "      <td>229.889999</td>\n",
              "      <td>227.229996</td>\n",
              "      <td>228.679993</td>\n",
              "      <td>27031100</td>\n",
              "      <td>0.0</td>\n",
              "      <td>0.0</td>\n",
              "    </tr>\n",
              "    <tr>\n",
              "      <th>6983</th>\n",
              "      <td>2025-02-18 00:00:00-05:00</td>\n",
              "      <td>228.820007</td>\n",
              "      <td>229.300003</td>\n",
              "      <td>223.720001</td>\n",
              "      <td>226.649994</td>\n",
              "      <td>42975100</td>\n",
              "      <td>0.0</td>\n",
              "      <td>0.0</td>\n",
              "    </tr>\n",
              "    <tr>\n",
              "      <th>6984</th>\n",
              "      <td>2025-02-19 00:00:00-05:00</td>\n",
              "      <td>225.520004</td>\n",
              "      <td>226.830002</td>\n",
              "      <td>223.710007</td>\n",
              "      <td>226.630005</td>\n",
              "      <td>28566700</td>\n",
              "      <td>0.0</td>\n",
              "      <td>0.0</td>\n",
              "    </tr>\n",
              "    <tr>\n",
              "      <th>6985</th>\n",
              "      <td>2025-02-20 00:00:00-05:00</td>\n",
              "      <td>224.779999</td>\n",
              "      <td>225.130005</td>\n",
              "      <td>221.809998</td>\n",
              "      <td>222.880005</td>\n",
              "      <td>30001700</td>\n",
              "      <td>0.0</td>\n",
              "      <td>0.0</td>\n",
              "    </tr>\n",
              "    <tr>\n",
              "      <th>6986</th>\n",
              "      <td>2025-02-21 00:00:00-05:00</td>\n",
              "      <td>223.279999</td>\n",
              "      <td>223.309998</td>\n",
              "      <td>214.740005</td>\n",
              "      <td>216.580002</td>\n",
              "      <td>55161000</td>\n",
              "      <td>0.0</td>\n",
              "      <td>0.0</td>\n",
              "    </tr>\n",
              "  </tbody>\n",
              "</table>\n",
              "<p>6987 rows × 8 columns</p>\n",
              "</div>"
            ],
            "text/plain": [
              "                           Date        Open        High         Low  \\\n",
              "0     1997-05-15 00:00:00-04:00    0.121875    0.125000    0.096354   \n",
              "1     1997-05-16 00:00:00-04:00    0.098438    0.098958    0.085417   \n",
              "2     1997-05-19 00:00:00-04:00    0.088021    0.088542    0.081250   \n",
              "3     1997-05-20 00:00:00-04:00    0.086458    0.087500    0.081771   \n",
              "4     1997-05-21 00:00:00-04:00    0.081771    0.082292    0.068750   \n",
              "...                         ...         ...         ...         ...   \n",
              "6982  2025-02-14 00:00:00-05:00  229.199997  229.889999  227.229996   \n",
              "6983  2025-02-18 00:00:00-05:00  228.820007  229.300003  223.720001   \n",
              "6984  2025-02-19 00:00:00-05:00  225.520004  226.830002  223.710007   \n",
              "6985  2025-02-20 00:00:00-05:00  224.779999  225.130005  221.809998   \n",
              "6986  2025-02-21 00:00:00-05:00  223.279999  223.309998  214.740005   \n",
              "\n",
              "           Close      Volume  Dividends  Stock Splits  \n",
              "0       0.097917  1443120000        0.0           0.0  \n",
              "1       0.086458   294000000        0.0           0.0  \n",
              "2       0.085417   122136000        0.0           0.0  \n",
              "3       0.081771   109344000        0.0           0.0  \n",
              "4       0.071354   377064000        0.0           0.0  \n",
              "...          ...         ...        ...           ...  \n",
              "6982  228.679993    27031100        0.0           0.0  \n",
              "6983  226.649994    42975100        0.0           0.0  \n",
              "6984  226.630005    28566700        0.0           0.0  \n",
              "6985  222.880005    30001700        0.0           0.0  \n",
              "6986  216.580002    55161000        0.0           0.0  \n",
              "\n",
              "[6987 rows x 8 columns]"
            ]
          },
          "execution_count": 5,
          "metadata": {},
          "output_type": "execute_result"
        }
      ],
      "source": [
        "df=pd.read_csv('AMZN_stock_data.csv')\n",
        "df"
      ]
    },
    {
      "cell_type": "code",
      "execution_count": 6,
      "metadata": {
        "colab": {
          "base_uri": "https://localhost:8080/"
        },
        "id": "lAGqZtQDmvuH",
        "outputId": "d4aa2e56-f7c1-4526-f94f-a7225635d1ca"
      },
      "outputs": [
        {
          "name": "stderr",
          "output_type": "stream",
          "text": [
            "/var/folders/n_/1hzw47553v1bvg9z8kct6rd40000gn/T/ipykernel_38993/2691600196.py:1: FutureWarning: In a future version of pandas, parsing datetimes with mixed time zones will raise an error unless `utc=True`. Please specify `utc=True` to opt in to the new behaviour and silence this warning. To create a `Series` with mixed offsets and `object` dtype, please use `apply` and `datetime.datetime.strptime`\n",
            "  df['Date']= pd.to_datetime(df['Date'])\n"
          ]
        }
      ],
      "source": [
        "df['Date']= pd.to_datetime(df['Date'])"
      ]
    },
    {
      "cell_type": "code",
      "execution_count": 7,
      "metadata": {
        "colab": {
          "base_uri": "https://localhost:8080/",
          "height": 335
        },
        "id": "xg2-80zdmvuI",
        "outputId": "bd4dd157-67cd-4faa-c536-a5836577b7ca"
      },
      "outputs": [
        {
          "data": {
            "text/plain": [
              "count    6987.000000\n",
              "mean       40.685061\n",
              "std        58.125169\n",
              "min         0.069792\n",
              "25%         2.110000\n",
              "50%         9.021000\n",
              "75%        73.006500\n",
              "max       242.059998\n",
              "Name: Close, dtype: float64"
            ]
          },
          "execution_count": 7,
          "metadata": {},
          "output_type": "execute_result"
        }
      ],
      "source": [
        "df['Close'].describe()"
      ]
    },
    {
      "cell_type": "code",
      "execution_count": 8,
      "metadata": {
        "colab": {
          "base_uri": "https://localhost:8080/",
          "height": 335
        },
        "id": "YXUm03wVmvuI",
        "outputId": "d9e12ef8-1d6d-4b23-819a-1387d72a3076"
      },
      "outputs": [
        {
          "data": {
            "text/plain": [
              "count    6987.000000\n",
              "mean       41.165619\n",
              "std        58.787641\n",
              "min         0.072396\n",
              "25%         2.148250\n",
              "50%         9.158500\n",
              "75%        73.643497\n",
              "max       242.520004\n",
              "Name: High, dtype: float64"
            ]
          },
          "execution_count": 8,
          "metadata": {},
          "output_type": "execute_result"
        }
      ],
      "source": [
        "df['High'].describe()"
      ]
    },
    {
      "cell_type": "code",
      "execution_count": 9,
      "metadata": {
        "id": "x5IdvK6JmvuI"
      },
      "outputs": [],
      "source": [
        "df['Close']=df['Close'].apply(lambda x: 1 if x>40.685061 else 0)\n",
        "df['High']=df['High'].apply(lambda x: 1 if x>41.165619 else 0)\n"
      ]
    },
    {
      "cell_type": "code",
      "execution_count": 10,
      "metadata": {
        "id": "oS2WrtAfmvuI"
      },
      "outputs": [],
      "source": [
        "final=df[['Date','High','Close']]"
      ]
    },
    {
      "cell_type": "code",
      "execution_count": 11,
      "metadata": {
        "colab": {
          "base_uri": "https://localhost:8080/",
          "height": 455
        },
        "id": "_R1JvAwwmvuI",
        "outputId": "452fbc34-125e-4f73-87d0-488f86e74120"
      },
      "outputs": [
        {
          "data": {
            "text/html": [
              "<div>\n",
              "<style scoped>\n",
              "    .dataframe tbody tr th:only-of-type {\n",
              "        vertical-align: middle;\n",
              "    }\n",
              "\n",
              "    .dataframe tbody tr th {\n",
              "        vertical-align: top;\n",
              "    }\n",
              "\n",
              "    .dataframe thead th {\n",
              "        text-align: right;\n",
              "    }\n",
              "</style>\n",
              "<table border=\"1\" class=\"dataframe\">\n",
              "  <thead>\n",
              "    <tr style=\"text-align: right;\">\n",
              "      <th></th>\n",
              "      <th>High</th>\n",
              "      <th>Close</th>\n",
              "    </tr>\n",
              "    <tr>\n",
              "      <th>Date</th>\n",
              "      <th></th>\n",
              "      <th></th>\n",
              "    </tr>\n",
              "  </thead>\n",
              "  <tbody>\n",
              "    <tr>\n",
              "      <th>1997-05-15 00:00:00-04:00</th>\n",
              "      <td>0</td>\n",
              "      <td>0</td>\n",
              "    </tr>\n",
              "    <tr>\n",
              "      <th>1997-05-16 00:00:00-04:00</th>\n",
              "      <td>0</td>\n",
              "      <td>0</td>\n",
              "    </tr>\n",
              "    <tr>\n",
              "      <th>1997-05-19 00:00:00-04:00</th>\n",
              "      <td>0</td>\n",
              "      <td>0</td>\n",
              "    </tr>\n",
              "    <tr>\n",
              "      <th>1997-05-20 00:00:00-04:00</th>\n",
              "      <td>0</td>\n",
              "      <td>0</td>\n",
              "    </tr>\n",
              "    <tr>\n",
              "      <th>1997-05-21 00:00:00-04:00</th>\n",
              "      <td>0</td>\n",
              "      <td>0</td>\n",
              "    </tr>\n",
              "    <tr>\n",
              "      <th>...</th>\n",
              "      <td>...</td>\n",
              "      <td>...</td>\n",
              "    </tr>\n",
              "    <tr>\n",
              "      <th>2025-02-14 00:00:00-05:00</th>\n",
              "      <td>1</td>\n",
              "      <td>1</td>\n",
              "    </tr>\n",
              "    <tr>\n",
              "      <th>2025-02-18 00:00:00-05:00</th>\n",
              "      <td>1</td>\n",
              "      <td>1</td>\n",
              "    </tr>\n",
              "    <tr>\n",
              "      <th>2025-02-19 00:00:00-05:00</th>\n",
              "      <td>1</td>\n",
              "      <td>1</td>\n",
              "    </tr>\n",
              "    <tr>\n",
              "      <th>2025-02-20 00:00:00-05:00</th>\n",
              "      <td>1</td>\n",
              "      <td>1</td>\n",
              "    </tr>\n",
              "    <tr>\n",
              "      <th>2025-02-21 00:00:00-05:00</th>\n",
              "      <td>1</td>\n",
              "      <td>1</td>\n",
              "    </tr>\n",
              "  </tbody>\n",
              "</table>\n",
              "<p>6987 rows × 2 columns</p>\n",
              "</div>"
            ],
            "text/plain": [
              "                           High  Close\n",
              "Date                                  \n",
              "1997-05-15 00:00:00-04:00     0      0\n",
              "1997-05-16 00:00:00-04:00     0      0\n",
              "1997-05-19 00:00:00-04:00     0      0\n",
              "1997-05-20 00:00:00-04:00     0      0\n",
              "1997-05-21 00:00:00-04:00     0      0\n",
              "...                         ...    ...\n",
              "2025-02-14 00:00:00-05:00     1      1\n",
              "2025-02-18 00:00:00-05:00     1      1\n",
              "2025-02-19 00:00:00-05:00     1      1\n",
              "2025-02-20 00:00:00-05:00     1      1\n",
              "2025-02-21 00:00:00-05:00     1      1\n",
              "\n",
              "[6987 rows x 2 columns]"
            ]
          },
          "execution_count": 11,
          "metadata": {},
          "output_type": "execute_result"
        }
      ],
      "source": [
        "final.set_index('Date')"
      ]
    },
    {
      "cell_type": "code",
      "execution_count": 12,
      "metadata": {
        "id": "iVi3znRP1JYB"
      },
      "outputs": [],
      "source": [
        "# Step 1: Build state and observation label lists\n",
        "states = sorted(final['High'].unique())       # e.g. [0, 1]\n",
        "observations = sorted(final['Close'].unique())# e.g. [0, 1]"
      ]
    },
    {
      "cell_type": "code",
      "execution_count": 23,
      "metadata": {
        "id": "5Axx1gYNpug5"
      },
      "outputs": [
        {
          "data": {
            "text/plain": [
              "array([[0.99858357, 0.00141643],\n",
              "       [0.        , 1.        ]])"
            ]
          },
          "execution_count": 23,
          "metadata": {},
          "output_type": "execute_result"
        }
      ],
      "source": [
        "def calculate_emission_matrix(observations_seq, states_seq, obs_symbols=None, state_symbols=None):\n",
        "    if obs_symbols is None:\n",
        "        obs_symbols = sorted(set(observations_seq))\n",
        "    if state_symbols is None:\n",
        "        state_symbols = sorted(set(states_seq))\n",
        "    obs_idx = {obs: i for i, obs in enumerate(obs_symbols)}\n",
        "    state_idx = {state: i for i, state in enumerate(state_symbols)}\n",
        "    num_states = len(state_symbols)\n",
        "    num_obs = len(obs_symbols)\n",
        "    emission_matrix = np.zeros((num_states, num_obs))\n",
        "    for s, o in zip(states_seq, observations_seq):\n",
        "        i = state_idx[s]\n",
        "        j = obs_idx[o]\n",
        "        emission_matrix[i, j] += 1\n",
        "    # Normalize rows\n",
        "    row_sums = emission_matrix.sum(axis=1, keepdims=True)\n",
        "    emission_matrix = np.divide(emission_matrix, row_sums, where=row_sums!=0)\n",
        "    return emission_matrix, state_symbols, obs_symbols\n",
        "\n",
        "emit_prob, state_labels, obs_labels = calculate_emission_matrix(\n",
        "    final['Close'].values, final['High'].values, observations, states\n",
        ")\n",
        "emit_prob"
      ]
    },
    {
      "cell_type": "code",
      "execution_count": 24,
      "metadata": {
        "id": "biASD7TImvuJ"
      },
      "outputs": [
        {
          "data": {
            "text/plain": [
              "array([[9.99190611e-01, 8.09388911e-04],\n",
              "       [1.46771037e-03, 9.98532290e-01]])"
            ]
          },
          "execution_count": 24,
          "metadata": {},
          "output_type": "execute_result"
        }
      ],
      "source": [
        "def calculate_transition_matrix(states_sequence, all_states=None, smoothing=0):\n",
        "    if all_states is None:\n",
        "        states = sorted(set(states_sequence))\n",
        "    else:\n",
        "        states = list(all_states)\n",
        "    state_idx = {state:i for i, state in enumerate(states)}\n",
        "    num_states = len(states)\n",
        "    counts = np.zeros((num_states, num_states))\n",
        "    for t in range(1, len(states_sequence)):\n",
        "        i = state_idx[states_sequence[t-1]]\n",
        "        j = state_idx[states_sequence[t]]\n",
        "        counts[i, j] += 1\n",
        "    if smoothing > 0:\n",
        "        counts += smoothing\n",
        "    row_sums = counts.sum(axis=1, keepdims=True)\n",
        "    transition_matrix = np.divide(counts, row_sums, where=row_sums!=0)\n",
        "    return transition_matrix, states\n",
        "\n",
        "trans_prob, state_labels = calculate_transition_matrix(final['High'].values, states)\n",
        "trans_prob"
      ]
    },
    {
      "cell_type": "markdown",
      "metadata": {
        "id": "zjDC3oqwmvuJ"
      },
      "source": [
        "Above you see a df that we are gonna use. We will use it to make an HMM model where our observations is the Close column and the Hidden state is the High column"
      ]
    },
    {
      "cell_type": "markdown",
      "metadata": {
        "id": "rDdTyMoFmvuJ"
      },
      "source": [
        "Goal: We are going to predict a hidden state(some Si) given some observations () i.e. Forward Algorithm = P(si=1|O1,...Ot)"
      ]
    },
    {
      "cell_type": "code",
      "execution_count": 15,
      "metadata": {
        "colab": {
          "base_uri": "https://localhost:8080/",
          "height": 54
        },
        "id": "GAOGrKS-mvuJ",
        "outputId": "8e36b873-1f5a-4a4c-faf6-e6daac56aeb2"
      },
      "outputs": [
        {
          "data": {
            "text/plain": [
              "'Your task: You guys need to calculate the Emission Matrix and Transition Matrix as well as the initial forward inference'"
            ]
          },
          "execution_count": 15,
          "metadata": {},
          "output_type": "execute_result"
        }
      ],
      "source": [
        "\"Your task: You guys need to calculate the Emission Matrix and Transition Matrix as well as the initial forward inference\""
      ]
    },
    {
      "cell_type": "code",
      "execution_count": 16,
      "metadata": {},
      "outputs": [],
      "source": [
        "class HiddenMarkovModel:\n",
        "    \"\"\"A Hidden markov model which takes Transition matrix and Emmission matrix as inputs\"\"\"\n",
        "\n",
        "    def __init__(self, transition_matrix, emission_matrix, prior=None):\n",
        "      self.transition_matrix = transition_matrix\n",
        "      self.emission_matrix = emission_matrix\n",
        "      self.prior = prior\n",
        "      return None\n",
        "\n",
        "    def emission_dist(self, ev):\n",
        "      if ev:\n",
        "        return self.emission_matrix[0]\n",
        "      else:\n",
        "        return self.emission_matrix[1]\n",
        "      return None\n"
      ]
    },
    {
      "cell_type": "code",
      "execution_count": null,
      "metadata": {},
      "outputs": [],
      "source": []
    },
    {
      "cell_type": "code",
      "execution_count": 17,
      "metadata": {},
      "outputs": [],
      "source": [
        "def forward_step(trans, fv, ev):\n",
        "  emission_dist = emission_dist(ev)\n",
        "  forward_inf = fv\n",
        "  transition_matrix = trans\n",
        "\n",
        "  nonNormSolution = emission_dist * np.array([[1,0],[0,1]]) @transition_matrix @ forward_inf\n",
        "  alpha = nonNormSolution / np.sum(nonNormSolution)\n",
        "\n",
        "\n",
        "  return alpha"
      ]
    },
    {
      "cell_type": "code",
      "execution_count": 18,
      "metadata": {},
      "outputs": [],
      "source": [
        "def forward_algorithm(Hmm,observations):\n",
        "    T = len(observations)\n",
        "    N = len(Hmm.piror)\n",
        "\n",
        "    alpha = np.zeros((T,N))\n",
        "\n",
        "    alpha[0] = Hmm.prior * Hmm.emission_dist(observations[0])\n",
        "    alpha[0] = alpha[0] / np.sum(alpha[0])\n",
        "\n",
        "    for t in range(1,T):\n",
        "        alpha[t] = forward_step(Hmm, alpha[t-1],observations[t])\n",
        "    return alpha"
      ]
    },
    {
      "cell_type": "code",
      "execution_count": 19,
      "metadata": {
        "id": "AoQt4E7V0X-A"
      },
      "outputs": [],
      "source": [
        "N = len(states)\n",
        "start_prob = np.ones(N) / N  # Uniform; or use start_prob = [count of each state at 0]/total"
      ]
    },
    {
      "cell_type": "code",
      "execution_count": 20,
      "metadata": {
        "id": "Pva_JK6l0bOY"
      },
      "outputs": [],
      "source": [
        "# Step 5: Prepare the observation sequence (integer encoded)\n",
        "obs_seq = [obs_labels.index(v) for v in final['Close'].values]\n",
        "# (if obs_labels = [0, 1] and your Close is these values, this is [0, 1, 1, 0, ...])"
      ]
    },
    {
      "cell_type": "code",
      "execution_count": 21,
      "metadata": {
        "colab": {
          "base_uri": "https://localhost:8080/"
        },
        "id": "vjMV8sDQmvuK",
        "outputId": "d18f63f1-b2eb-49a4-a432-c8127494c531"
      },
      "outputs": [
        {
          "name": "stdout",
          "output_type": "stream",
          "text": [
            "Backward probability matrix shape: (6987, 2)\n",
            "Probability of observation sequence under the HMM: 2.5996747717102055e-36\n"
          ]
        }
      ],
      "source": [
        "# ---- Backward algorithm ----\n",
        "def backward_algorithm(obs, states, start_prob, trans_prob, emit_prob):\n",
        "    N = len(states)\n",
        "    T = len(obs)\n",
        "    backward = np.zeros((T, N))\n",
        "    backward[T-1, :] = 1\n",
        "    for t in range(T-2, -1, -1):\n",
        "        for i in range(N):\n",
        "            backward[t, i] = np.sum(trans_prob[i, :] * emit_prob[:, obs[t+1]] * backward[t+1, :])\n",
        "    prob = np.sum(start_prob * emit_prob[:, obs[0]] * backward[0, :])\n",
        "    return backward, prob\n",
        "\n",
        "backward_matrix, sequence_prob = backward_algorithm(\n",
        "    obs_seq, states, start_prob, trans_prob, emit_prob\n",
        ")\n",
        "\n",
        "print(\"Backward probability matrix shape:\", backward_matrix.shape)\n",
        "print(\"Probability of observation sequence under the HMM:\", sequence_prob)"
      ]
    },
    {
      "cell_type": "code",
      "execution_count": 22,
      "metadata": {
        "colab": {
          "base_uri": "https://localhost:8080/"
        },
        "id": "5juc1FArm4Vr",
        "outputId": "7d632911-5433-4b57-d451-73111766ba1a"
      },
      "outputs": [
        {
          "name": "stdout",
          "output_type": "stream",
          "text": [
            "Backward probability matrix shape: (6987, 2)\n",
            "Probability of observation sequence under the HMM: 2.5996747717102055e-36\n"
          ]
        }
      ],
      "source": [
        "backward_matrix, sequence_prob = backward_algorithm(\n",
        "    obs_seq, states, start_prob, trans_prob, emit_prob\n",
        ")\n",
        "\n",
        "print(\"Backward probability matrix shape:\", backward_matrix.shape)\n",
        "print(\"Probability of observation sequence under the HMM:\", sequence_prob)"
      ]
    },
    {
      "cell_type": "code",
      "execution_count": null,
      "metadata": {
        "id": "4l9_R7dyzUCm"
      },
      "outputs": [],
      "source": []
    }
  ],
  "metadata": {
    "colab": {
      "provenance": []
    },
    "kernelspec": {
      "display_name": "Python 3",
      "language": "python",
      "name": "python3"
    },
    "language_info": {
      "codemirror_mode": {
        "name": "ipython",
        "version": 3
      },
      "file_extension": ".py",
      "mimetype": "text/x-python",
      "name": "python",
      "nbconvert_exporter": "python",
      "pygments_lexer": "ipython3",
      "version": "3.12.1"
    }
  },
  "nbformat": 4,
  "nbformat_minor": 0
}
